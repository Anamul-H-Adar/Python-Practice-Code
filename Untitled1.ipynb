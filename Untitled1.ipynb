{
 "cells": [
  {
   "cell_type": "code",
   "execution_count": 1,
   "id": "b17896ff",
   "metadata": {},
   "outputs": [],
   "source": [
    "Name = 'Anamul Hoque Adar'"
   ]
  },
  {
   "cell_type": "code",
   "execution_count": 2,
   "id": "85537938",
   "metadata": {},
   "outputs": [
    {
     "name": "stdout",
     "output_type": "stream",
     "text": [
      "Anamul Hoque Adar\n"
     ]
    }
   ],
   "source": [
    "print(Name)"
   ]
  },
  {
   "cell_type": "code",
   "execution_count": 3,
   "id": "8507d191",
   "metadata": {},
   "outputs": [
    {
     "name": "stdout",
     "output_type": "stream",
     "text": [
      "Anamul Hoque Adar\n"
     ]
    }
   ],
   "source": [
    "Name1 = 'Anamul Hoque'\n",
    "Name2 = 'Adar'\n",
    "print(Name1+' '+Name2)"
   ]
  },
  {
   "cell_type": "code",
   "execution_count": 4,
   "id": "fed9782e",
   "metadata": {},
   "outputs": [
    {
     "data": {
      "text/plain": [
       "30.0"
      ]
     },
     "execution_count": 4,
     "metadata": {},
     "output_type": "execute_result"
    }
   ],
   "source": [
    "10+20-5+(10/2)"
   ]
  },
  {
   "cell_type": "code",
   "execution_count": 5,
   "id": "c7b54db0",
   "metadata": {},
   "outputs": [
    {
     "data": {
      "text/plain": [
       "30"
      ]
     },
     "execution_count": 5,
     "metadata": {},
     "output_type": "execute_result"
    }
   ],
   "source": [
    "10+20-5+5"
   ]
  },
  {
   "cell_type": "code",
   "execution_count": 6,
   "id": "43e046b5",
   "metadata": {},
   "outputs": [
    {
     "data": {
      "text/plain": [
       "20"
      ]
     },
     "execution_count": 6,
     "metadata": {},
     "output_type": "execute_result"
    }
   ],
   "source": [
    "30-10"
   ]
  },
  {
   "cell_type": "code",
   "execution_count": 7,
   "id": "548eadad",
   "metadata": {},
   "outputs": [
    {
     "name": "stdout",
     "output_type": "stream",
     "text": [
      "Enter a num10\n"
     ]
    }
   ],
   "source": [
    "x = input('Enter a num')"
   ]
  },
  {
   "cell_type": "code",
   "execution_count": 8,
   "id": "06b80436",
   "metadata": {},
   "outputs": [
    {
     "data": {
      "text/plain": [
       "str"
      ]
     },
     "execution_count": 8,
     "metadata": {},
     "output_type": "execute_result"
    }
   ],
   "source": [
    "type(x)"
   ]
  },
  {
   "cell_type": "code",
   "execution_count": 9,
   "id": "3fa6ee8f",
   "metadata": {},
   "outputs": [],
   "source": [
    "name = ['Habib','Wadid','Masum']"
   ]
  },
  {
   "cell_type": "code",
   "execution_count": 15,
   "id": "b6d59ea3",
   "metadata": {},
   "outputs": [
    {
     "ename": "NameError",
     "evalue": "name 'Adar' is not defined",
     "output_type": "error",
     "traceback": [
      "\u001b[1;31m---------------------------------------------------------------------------\u001b[0m",
      "\u001b[1;31mNameError\u001b[0m                                 Traceback (most recent call last)",
      "\u001b[1;32m~\\AppData\\Local\\Temp/ipykernel_21808/3391745535.py\u001b[0m in \u001b[0;36m<module>\u001b[1;34m\u001b[0m\n\u001b[1;32m----> 1\u001b[1;33m \u001b[0mname\u001b[0m\u001b[1;33m.\u001b[0m\u001b[0mappend\u001b[0m\u001b[1;33m(\u001b[0m\u001b[0mAdar\u001b[0m\u001b[1;33m)\u001b[0m\u001b[1;33m\u001b[0m\u001b[1;33m\u001b[0m\u001b[0m\n\u001b[0m",
      "\u001b[1;31mNameError\u001b[0m: name 'Adar' is not defined"
     ]
    }
   ],
   "source": [
    "name.append(Adar)"
   ]
  },
  {
   "cell_type": "code",
   "execution_count": 14,
   "id": "4f3d7e61",
   "metadata": {},
   "outputs": [
    {
     "name": "stdout",
     "output_type": "stream",
     "text": [
      "['Habib', 'Wadid', 'Masum', ['Adar'], 'Adar']\n"
     ]
    }
   ],
   "source": [
    "print(name)"
   ]
  },
  {
   "cell_type": "code",
   "execution_count": 16,
   "id": "2fc49543",
   "metadata": {},
   "outputs": [],
   "source": [
    "name.insert(2, 'Faruk')"
   ]
  },
  {
   "cell_type": "code",
   "execution_count": 17,
   "id": "3a61aac0",
   "metadata": {},
   "outputs": [
    {
     "data": {
      "text/plain": [
       "['Habib', 'Wadid', 'Faruk', 'Masum', ['Adar'], 'Adar']"
      ]
     },
     "execution_count": 17,
     "metadata": {},
     "output_type": "execute_result"
    }
   ],
   "source": [
    "name"
   ]
  },
  {
   "cell_type": "code",
   "execution_count": 18,
   "id": "4b510c5c",
   "metadata": {},
   "outputs": [
    {
     "data": {
      "text/plain": [
       "'Adar'"
      ]
     },
     "execution_count": 18,
     "metadata": {},
     "output_type": "execute_result"
    }
   ],
   "source": [
    "name.pop()"
   ]
  },
  {
   "cell_type": "code",
   "execution_count": 19,
   "id": "4d98dbc2",
   "metadata": {},
   "outputs": [
    {
     "data": {
      "text/plain": [
       "['Habib', 'Wadid', 'Faruk', 'Masum', ['Adar']]"
      ]
     },
     "execution_count": 19,
     "metadata": {},
     "output_type": "execute_result"
    }
   ],
   "source": [
    "name"
   ]
  },
  {
   "cell_type": "code",
   "execution_count": 20,
   "id": "f83bce12",
   "metadata": {},
   "outputs": [],
   "source": [
    "del name"
   ]
  },
  {
   "cell_type": "code",
   "execution_count": 21,
   "id": "bd4e5ae9",
   "metadata": {},
   "outputs": [],
   "source": [
    "Emp = {'Name':['Jibon','Asif','Rakib','Shiraj','Abir'],\n",
    "       'Age':[20, 10, 15, 22, 30]}"
   ]
  },
  {
   "cell_type": "code",
   "execution_count": 23,
   "id": "c0ed8805",
   "metadata": {},
   "outputs": [
    {
     "data": {
      "text/plain": [
       "{'Name': ['Jibon', 'Asif', 'Rakib', 'Shiraj', 'Abir'],\n",
       " 'Age': [20, 10, 15, 22, 30]}"
      ]
     },
     "execution_count": 23,
     "metadata": {},
     "output_type": "execute_result"
    }
   ],
   "source": [
    "Emp"
   ]
  },
  {
   "cell_type": "code",
   "execution_count": 24,
   "id": "19419da2",
   "metadata": {},
   "outputs": [],
   "source": [
    "import pandas as pd\n",
    "EmpD = pd.DataFrame(Emp)"
   ]
  },
  {
   "cell_type": "code",
   "execution_count": 63,
   "id": "e1d37c06",
   "metadata": {},
   "outputs": [
    {
     "data": {
      "text/html": [
       "<div>\n",
       "<style scoped>\n",
       "    .dataframe tbody tr th:only-of-type {\n",
       "        vertical-align: middle;\n",
       "    }\n",
       "\n",
       "    .dataframe tbody tr th {\n",
       "        vertical-align: top;\n",
       "    }\n",
       "\n",
       "    .dataframe thead th {\n",
       "        text-align: right;\n",
       "    }\n",
       "</style>\n",
       "<table border=\"1\" class=\"dataframe\">\n",
       "  <thead>\n",
       "    <tr style=\"text-align: right;\">\n",
       "      <th></th>\n",
       "      <th>Name</th>\n",
       "      <th>Age</th>\n",
       "    </tr>\n",
       "  </thead>\n",
       "  <tbody>\n",
       "    <tr>\n",
       "      <th>0</th>\n",
       "      <td>Jibon</td>\n",
       "      <td>20</td>\n",
       "    </tr>\n",
       "    <tr>\n",
       "      <th>1</th>\n",
       "      <td>Asif</td>\n",
       "      <td>10</td>\n",
       "    </tr>\n",
       "    <tr>\n",
       "      <th>2</th>\n",
       "      <td>Rakib</td>\n",
       "      <td>15</td>\n",
       "    </tr>\n",
       "    <tr>\n",
       "      <th>3</th>\n",
       "      <td>Shiraj</td>\n",
       "      <td>22</td>\n",
       "    </tr>\n",
       "    <tr>\n",
       "      <th>4</th>\n",
       "      <td>Abir</td>\n",
       "      <td>30</td>\n",
       "    </tr>\n",
       "  </tbody>\n",
       "</table>\n",
       "</div>"
      ],
      "text/plain": [
       "     Name  Age\n",
       "0   Jibon   20\n",
       "1    Asif   10\n",
       "2   Rakib   15\n",
       "3  Shiraj   22\n",
       "4    Abir   30"
      ]
     },
     "execution_count": 63,
     "metadata": {},
     "output_type": "execute_result"
    }
   ],
   "source": [
    "EmpD"
   ]
  },
  {
   "cell_type": "code",
   "execution_count": 35,
   "id": "bd6dfd4f",
   "metadata": {},
   "outputs": [
    {
     "name": "stdout",
     "output_type": "stream",
     "text": [
      "Jibon\n",
      "Asif\n",
      "Rakib\n",
      "Shiraj\n",
      "Abir\n"
     ]
    }
   ],
   "source": [
    "for name in EmpD['Name']:\n",
    "    print(name)"
   ]
  },
  {
   "cell_type": "code",
   "execution_count": 45,
   "id": "40e8d183",
   "metadata": {},
   "outputs": [
    {
     "name": "stdout",
     "output_type": "stream",
     "text": [
      "Finished\n"
     ]
    }
   ],
   "source": [
    "x = -5\n",
    "if x>=0:\n",
    "    print('Condition True')\n",
    "elif x==0:\n",
    "    print('Condition Unmatched')\n",
    "else:\n",
    "    print('Finished')"
   ]
  },
  {
   "cell_type": "code",
   "execution_count": 50,
   "id": "87785b0b",
   "metadata": {},
   "outputs": [
    {
     "name": "stdout",
     "output_type": "stream",
     "text": [
      "10\n",
      "11\n",
      "12\n",
      "13\n",
      "14\n",
      "15\n",
      "16\n",
      "17\n",
      "18\n",
      "19\n",
      "20\n"
     ]
    }
   ],
   "source": [
    "x= 10\n",
    "while(x <= 20):\n",
    "    print(x)\n",
    "    x = x+1"
   ]
  },
  {
   "cell_type": "code",
   "execution_count": 60,
   "id": "60d69059",
   "metadata": {},
   "outputs": [
    {
     "name": "stdout",
     "output_type": "stream",
     "text": [
      "10\n",
      "12\n",
      "14\n",
      "16\n",
      "18\n"
     ]
    }
   ],
   "source": [
    "for i in range(10, 20,2):\n",
    "    print(i)"
   ]
  },
  {
   "cell_type": "code",
   "execution_count": 61,
   "id": "7be700aa",
   "metadata": {},
   "outputs": [
    {
     "data": {
      "text/plain": [
       "18"
      ]
     },
     "execution_count": 61,
     "metadata": {},
     "output_type": "execute_result"
    }
   ],
   "source": [
    "i"
   ]
  },
  {
   "cell_type": "code",
   "execution_count": 62,
   "id": "4fbcb2c1",
   "metadata": {},
   "outputs": [],
   "source": [
    "name = ['Habib','Wadid','Masum']"
   ]
  },
  {
   "cell_type": "code",
   "execution_count": 68,
   "id": "5c63db83",
   "metadata": {},
   "outputs": [],
   "source": [
    "def Emp(name):\n",
    "    fil = (EmpD\n",
    "           .filter(['Name','Age'])\n",
    "           .query(['Name']==name))\n",
    "    return fil"
   ]
  },
  {
   "cell_type": "code",
   "execution_count": 70,
   "id": "6e4087b2",
   "metadata": {},
   "outputs": [
    {
     "ename": "SyntaxError",
     "evalue": "unexpected EOF while parsing (Temp/ipykernel_21808/4261185632.py, line 3)",
     "output_type": "error",
     "traceback": [
      "\u001b[1;36m  File \u001b[1;32m\"C:\\Users\\helpdesk\\AppData\\Local\\Temp/ipykernel_21808/4261185632.py\"\u001b[1;36m, line \u001b[1;32m3\u001b[0m\n\u001b[1;33m    .query(['Name']=='Jibon')\u001b[0m\n\u001b[1;37m                             ^\u001b[0m\n\u001b[1;31mSyntaxError\u001b[0m\u001b[1;31m:\u001b[0m unexpected EOF while parsing\n"
     ]
    }
   ],
   "source": [
    "(EmpD\n",
    " .filter(['Name','Age'])\n",
    " .query(['Name']=='Jibon')"
   ]
  },
  {
   "cell_type": "code",
   "execution_count": 73,
   "id": "105b37fe",
   "metadata": {},
   "outputs": [],
   "source": [
    "y = 3\n",
    "x = lambda a:a*y"
   ]
  },
  {
   "cell_type": "code",
   "execution_count": 75,
   "id": "43171fce",
   "metadata": {},
   "outputs": [
    {
     "name": "stdout",
     "output_type": "stream",
     "text": [
      "6\n"
     ]
    }
   ],
   "source": [
    "print(x(2))"
   ]
  },
  {
   "cell_type": "code",
   "execution_count": 77,
   "id": "291dbdd2",
   "metadata": {},
   "outputs": [],
   "source": [
    "def sums(n):\n",
    "    res = lambda a: a*n\n",
    "    return res"
   ]
  },
  {
   "cell_type": "code",
   "execution_count": 81,
   "id": "7fdd03cb",
   "metadata": {},
   "outputs": [
    {
     "name": "stdout",
     "output_type": "stream",
     "text": [
      "20\n"
     ]
    }
   ],
   "source": [
    "x = sums(10)\n",
    "print(x(2))"
   ]
  },
  {
   "cell_type": "code",
   "execution_count": 85,
   "id": "88289eec",
   "metadata": {},
   "outputs": [
    {
     "name": "stdout",
     "output_type": "stream",
     "text": [
      "Enter your password123\n",
      "Access granted\n"
     ]
    }
   ],
   "source": [
    "for i in range(3):\n",
    "    pas  = input('Enter your password')\n",
    "    if pas == '123':\n",
    "        print('Access granted')\n",
    "        break    \n",
    "    else:\n",
    "        print('password not matched')\n",
    "    \n",
    "\n",
    "else:\n",
    "    print('Try again letter!!')"
   ]
  },
  {
   "cell_type": "code",
   "execution_count": 86,
   "id": "a08fd269",
   "metadata": {},
   "outputs": [],
   "source": [
    "import numpy as np"
   ]
  },
  {
   "cell_type": "code",
   "execution_count": 87,
   "id": "c64da058",
   "metadata": {},
   "outputs": [],
   "source": [
    "x = np.array([10, 20, 30])"
   ]
  },
  {
   "cell_type": "code",
   "execution_count": 88,
   "id": "796acc69",
   "metadata": {},
   "outputs": [
    {
     "name": "stdout",
     "output_type": "stream",
     "text": [
      "[10 20 30]\n"
     ]
    }
   ],
   "source": [
    "print(x)"
   ]
  },
  {
   "cell_type": "code",
   "execution_count": 97,
   "id": "8a547a1e",
   "metadata": {},
   "outputs": [
    {
     "data": {
      "text/plain": [
       "10"
      ]
     },
     "execution_count": 97,
     "metadata": {},
     "output_type": "execute_result"
    }
   ],
   "source": [
    "lis = [10, 20, 30]\n",
    "\n",
    "sum(lis)\n",
    "max(lis)\n",
    "min(lis)"
   ]
  },
  {
   "cell_type": "code",
   "execution_count": 99,
   "id": "08d37c36",
   "metadata": {},
   "outputs": [
    {
     "data": {
      "text/plain": [
       "60"
      ]
     },
     "execution_count": 99,
     "metadata": {},
     "output_type": "execute_result"
    }
   ],
   "source": [
    "lis1 = np.array([10, 20, 30])\n",
    "\n",
    "sum(lis1)"
   ]
  },
  {
   "cell_type": "code",
   "execution_count": 103,
   "id": "566cec28",
   "metadata": {},
   "outputs": [
    {
     "name": "stdout",
     "output_type": "stream",
     "text": [
      "10\n",
      "20\n",
      "30\n"
     ]
    }
   ],
   "source": [
    "for i in lis1:\n",
    "    print(np.sum(i))"
   ]
  },
  {
   "cell_type": "code",
   "execution_count": 105,
   "id": "b664c939",
   "metadata": {},
   "outputs": [],
   "source": [
    "res = sum(lis1)"
   ]
  },
  {
   "cell_type": "code",
   "execution_count": 106,
   "id": "4650f737",
   "metadata": {},
   "outputs": [
    {
     "data": {
      "text/plain": [
       "60"
      ]
     },
     "execution_count": 106,
     "metadata": {},
     "output_type": "execute_result"
    }
   ],
   "source": [
    "res"
   ]
  }
 ],
 "metadata": {
  "kernelspec": {
   "display_name": "Python 3 (ipykernel)",
   "language": "python",
   "name": "python3"
  },
  "language_info": {
   "codemirror_mode": {
    "name": "ipython",
    "version": 3
   },
   "file_extension": ".py",
   "mimetype": "text/x-python",
   "name": "python",
   "nbconvert_exporter": "python",
   "pygments_lexer": "ipython3",
   "version": "3.9.7"
  }
 },
 "nbformat": 4,
 "nbformat_minor": 5
}
