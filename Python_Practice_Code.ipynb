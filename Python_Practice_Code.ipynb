{
 "cells": [
  {
   "cell_type": "markdown",
   "id": "9298f544",
   "metadata": {},
   "source": [
    "## Python Fundamental Course"
   ]
  },
  {
   "cell_type": "markdown",
   "id": "8d35efda",
   "metadata": {},
   "source": [
    "## String Variable"
   ]
  },
  {
   "cell_type": "code",
   "execution_count": 83,
   "id": "a2a85bc4",
   "metadata": {},
   "outputs": [
    {
     "data": {
      "text/plain": [
       "str"
      ]
     },
     "execution_count": 83,
     "metadata": {},
     "output_type": "execute_result"
    }
   ],
   "source": [
    "Name = \"My name is Anamul Hoque Adar\"\n",
    "type(Name)"
   ]
  },
  {
   "cell_type": "code",
   "execution_count": 84,
   "id": "c809b8d3",
   "metadata": {},
   "outputs": [
    {
     "name": "stdout",
     "output_type": "stream",
     "text": [
      "My name is Anamul Hoque Adar\n"
     ]
    }
   ],
   "source": [
    "print(Name)"
   ]
  },
  {
   "cell_type": "code",
   "execution_count": 85,
   "id": "419e7049",
   "metadata": {},
   "outputs": [
    {
     "data": {
      "text/plain": [
       "str"
      ]
     },
     "execution_count": 85,
     "metadata": {},
     "output_type": "execute_result"
    }
   ],
   "source": [
    "Mess = \"We said that, 'Python is powerful'\"\n",
    "type(Mess)"
   ]
  },
  {
   "cell_type": "code",
   "execution_count": 86,
   "id": "249d29de",
   "metadata": {},
   "outputs": [
    {
     "name": "stdout",
     "output_type": "stream",
     "text": [
      "We said that, 'Python is powerful'\n"
     ]
    }
   ],
   "source": [
    "print(Mess)"
   ]
  },
  {
   "cell_type": "code",
   "execution_count": 87,
   "id": "15ef5f2c",
   "metadata": {},
   "outputs": [
    {
     "name": "stdout",
     "output_type": "stream",
     "text": [
      "True\n"
     ]
    }
   ],
   "source": [
    "if True:\n",
    "    print(True)"
   ]
  },
  {
   "cell_type": "markdown",
   "id": "04c52576",
   "metadata": {},
   "source": [
    "## Concate two variables or String"
   ]
  },
  {
   "cell_type": "code",
   "execution_count": 88,
   "id": "03972930",
   "metadata": {
    "scrolled": true
   },
   "outputs": [
    {
     "data": {
      "text/plain": [
       "'Python Programming'"
      ]
     },
     "execution_count": 88,
     "metadata": {},
     "output_type": "execute_result"
    }
   ],
   "source": [
    "word1 = \"Python\"\n",
    "word2 = \"Programming\"\n",
    "res = word1+ \" \" +word2\n",
    "res"
   ]
  },
  {
   "cell_type": "markdown",
   "id": "9a47b958",
   "metadata": {},
   "source": [
    "## Accessing Variables index"
   ]
  },
  {
   "cell_type": "code",
   "execution_count": 89,
   "id": "6bcc18bc",
   "metadata": {},
   "outputs": [
    {
     "data": {
      "text/plain": [
       "'Python Programming'"
      ]
     },
     "execution_count": 89,
     "metadata": {},
     "output_type": "execute_result"
    }
   ],
   "source": [
    "res[0:]"
   ]
  },
  {
   "cell_type": "markdown",
   "id": "51667fd6",
   "metadata": {},
   "source": [
    "## Upper() function to convert value to upper value"
   ]
  },
  {
   "cell_type": "code",
   "execution_count": 90,
   "id": "99253dde",
   "metadata": {},
   "outputs": [
    {
     "data": {
      "text/plain": [
       "'PYTHON PROGRAMMING'"
      ]
     },
     "execution_count": 90,
     "metadata": {},
     "output_type": "execute_result"
    }
   ],
   "source": [
    "res.upper()"
   ]
  },
  {
   "cell_type": "markdown",
   "id": "c7e66c44",
   "metadata": {},
   "source": [
    "## Strip() function use to trim extra spaces"
   ]
  },
  {
   "cell_type": "code",
   "execution_count": 91,
   "id": "e177d156",
   "metadata": {},
   "outputs": [
    {
     "data": {
      "text/plain": [
       "'Python Programming'"
      ]
     },
     "execution_count": 91,
     "metadata": {},
     "output_type": "execute_result"
    }
   ],
   "source": [
    "res.strip()"
   ]
  },
  {
   "cell_type": "markdown",
   "id": "3b8fb237",
   "metadata": {},
   "source": [
    "## Checking variable length using len() function"
   ]
  },
  {
   "cell_type": "code",
   "execution_count": 92,
   "id": "fc32b596",
   "metadata": {},
   "outputs": [
    {
     "data": {
      "text/plain": [
       "18"
      ]
     },
     "execution_count": 92,
     "metadata": {},
     "output_type": "execute_result"
    }
   ],
   "source": [
    "len(res)"
   ]
  },
  {
   "cell_type": "markdown",
   "id": "a94bb4a6",
   "metadata": {},
   "source": [
    "## Mathematical Operators"
   ]
  },
  {
   "cell_type": "code",
   "execution_count": 93,
   "id": "6ba8300d",
   "metadata": {},
   "outputs": [
    {
     "data": {
      "text/plain": [
       "5.7"
      ]
     },
     "execution_count": 93,
     "metadata": {},
     "output_type": "execute_result"
    }
   ],
   "source": [
    "x = 5.7\n",
    "x"
   ]
  },
  {
   "cell_type": "code",
   "execution_count": 94,
   "id": "b65d90f6",
   "metadata": {},
   "outputs": [
    {
     "data": {
      "text/plain": [
       "5"
      ]
     },
     "execution_count": 94,
     "metadata": {},
     "output_type": "execute_result"
    }
   ],
   "source": [
    "int(x)"
   ]
  },
  {
   "cell_type": "code",
   "execution_count": 95,
   "id": "44f42d9b",
   "metadata": {},
   "outputs": [
    {
     "data": {
      "text/plain": [
       "complex"
      ]
     },
     "execution_count": 95,
     "metadata": {},
     "output_type": "execute_result"
    }
   ],
   "source": [
    "w = 3 - 7j\n",
    "type(w)"
   ]
  },
  {
   "cell_type": "code",
   "execution_count": 96,
   "id": "98f1c47c",
   "metadata": {},
   "outputs": [
    {
     "data": {
      "text/plain": [
       "6.0"
      ]
     },
     "execution_count": 96,
     "metadata": {},
     "output_type": "execute_result"
    }
   ],
   "source": [
    "12/2"
   ]
  },
  {
   "cell_type": "code",
   "execution_count": 97,
   "id": "2e43745d",
   "metadata": {},
   "outputs": [
    {
     "data": {
      "text/plain": [
       "6"
      ]
     },
     "execution_count": 97,
     "metadata": {},
     "output_type": "execute_result"
    }
   ],
   "source": [
    "12//2"
   ]
  },
  {
   "cell_type": "code",
   "execution_count": 98,
   "id": "44fc4b37",
   "metadata": {},
   "outputs": [
    {
     "data": {
      "text/plain": [
       "144"
      ]
     },
     "execution_count": 98,
     "metadata": {},
     "output_type": "execute_result"
    }
   ],
   "source": [
    "12 **2"
   ]
  },
  {
   "cell_type": "code",
   "execution_count": 99,
   "id": "381c6c35",
   "metadata": {},
   "outputs": [
    {
     "data": {
      "text/plain": [
       "2"
      ]
     },
     "execution_count": 99,
     "metadata": {},
     "output_type": "execute_result"
    }
   ],
   "source": [
    "14%3"
   ]
  },
  {
   "cell_type": "code",
   "execution_count": 100,
   "id": "70a6b717",
   "metadata": {},
   "outputs": [
    {
     "data": {
      "text/plain": [
       "27"
      ]
     },
     "execution_count": 100,
     "metadata": {},
     "output_type": "execute_result"
    }
   ],
   "source": [
    "int(10*2 - 5 + 10 + (12/6)) # 10*2 - 5 + 10 + 2 -> 20 - 5 + 10 + 2 ->20 - 5 + 12"
   ]
  },
  {
   "cell_type": "code",
   "execution_count": 101,
   "id": "778ffec0",
   "metadata": {},
   "outputs": [
    {
     "data": {
      "text/plain": [
       "16.714285714285715"
      ]
     },
     "execution_count": 101,
     "metadata": {},
     "output_type": "execute_result"
    }
   ],
   "source": [
    "2*10 - 5 + 12/7"
   ]
  },
  {
   "cell_type": "code",
   "execution_count": 102,
   "id": "25e04cb3",
   "metadata": {},
   "outputs": [
    {
     "name": "stdout",
     "output_type": "stream",
     "text": [
      "Value of (a + b) * c / d is  6.0\n"
     ]
    }
   ],
   "source": [
    "a = 20\n",
    "b = 10\n",
    "c = 15\n",
    "d = 5\n",
    "e = 0\n",
    "\n",
    "e = (a / b) * c / d       #( 30 * 15 ) / 5\n",
    "print(\"Value of (a + b) * c / d is \",  e)"
   ]
  },
  {
   "cell_type": "code",
   "execution_count": 103,
   "id": "4d833c4a",
   "metadata": {},
   "outputs": [
    {
     "data": {
      "text/plain": [
       "144"
      ]
     },
     "execution_count": 103,
     "metadata": {},
     "output_type": "execute_result"
    }
   ],
   "source": [
    "x = pow(12,2)\n",
    "x"
   ]
  },
  {
   "cell_type": "code",
   "execution_count": 104,
   "id": "6936c659",
   "metadata": {},
   "outputs": [
    {
     "name": "stdout",
     "output_type": "stream",
     "text": [
      "We are printing the value o x which is 144.00\n"
     ]
    }
   ],
   "source": [
    "print(f\"We are printing the value o x which is {x:.2f}\")"
   ]
  },
  {
   "cell_type": "code",
   "execution_count": 105,
   "id": "b8a35fad",
   "metadata": {},
   "outputs": [
    {
     "name": "stdout",
     "output_type": "stream",
     "text": [
      "Enter a number10\n"
     ]
    },
    {
     "data": {
      "text/plain": [
       "'10'"
      ]
     },
     "execution_count": 105,
     "metadata": {},
     "output_type": "execute_result"
    }
   ],
   "source": [
    "num = input(\"Enter a number\")\n",
    "num"
   ]
  },
  {
   "cell_type": "code",
   "execution_count": 106,
   "id": "6f0cf09d",
   "metadata": {},
   "outputs": [
    {
     "name": "stdout",
     "output_type": "stream",
     "text": [
      "Enter a nameAnamul\n"
     ]
    }
   ],
   "source": [
    "name = input(\"Enter a name\")"
   ]
  },
  {
   "cell_type": "code",
   "execution_count": 107,
   "id": "c6d2bdc9",
   "metadata": {},
   "outputs": [
    {
     "name": "stdout",
     "output_type": "stream",
     "text": [
      "Anamul\n"
     ]
    }
   ],
   "source": [
    "print(name)"
   ]
  },
  {
   "cell_type": "code",
   "execution_count": 108,
   "id": "c2fe4f7b",
   "metadata": {},
   "outputs": [
    {
     "data": {
      "text/plain": [
       "str"
      ]
     },
     "execution_count": 108,
     "metadata": {},
     "output_type": "execute_result"
    }
   ],
   "source": [
    "type(num)\n",
    "type(name)"
   ]
  },
  {
   "cell_type": "code",
   "execution_count": 109,
   "id": "67a407a5",
   "metadata": {},
   "outputs": [
    {
     "name": "stdout",
     "output_type": "stream",
     "text": [
      "Enter a number10\n"
     ]
    }
   ],
   "source": [
    "num1 = int(input(\"Enter a number\"))"
   ]
  },
  {
   "cell_type": "code",
   "execution_count": 110,
   "id": "991f4193",
   "metadata": {},
   "outputs": [
    {
     "data": {
      "text/plain": [
       "int"
      ]
     },
     "execution_count": 110,
     "metadata": {},
     "output_type": "execute_result"
    }
   ],
   "source": [
    "type(num1)"
   ]
  },
  {
   "cell_type": "markdown",
   "id": "fa8e2b09",
   "metadata": {},
   "source": [
    "## Python Data Structure"
   ]
  },
  {
   "cell_type": "markdown",
   "id": "77082f20",
   "metadata": {},
   "source": [
    "##  Creating List\n",
    "### When you want to collect a mutable ordered list of elements, use a list. (For example, when you want to append new phone numbers to a list: [number1, number2, ...]).\n",
    "#### List is mutable[Changble]"
   ]
  },
  {
   "cell_type": "code",
   "execution_count": 111,
   "id": "bbb6a05f",
   "metadata": {},
   "outputs": [],
   "source": [
    "num_list = [1, 2, 3, 4, 8, 9]\n",
    "num_list1 = list((1, 2, 3, 4, 8, 9))"
   ]
  },
  {
   "cell_type": "code",
   "execution_count": 112,
   "id": "c092625a",
   "metadata": {},
   "outputs": [
    {
     "data": {
      "text/plain": [
       "list"
      ]
     },
     "execution_count": 112,
     "metadata": {},
     "output_type": "execute_result"
    }
   ],
   "source": [
    "type(num_list)\n",
    "type(num_list1)"
   ]
  },
  {
   "cell_type": "code",
   "execution_count": 113,
   "id": "530c62ba",
   "metadata": {},
   "outputs": [
    {
     "name": "stdout",
     "output_type": "stream",
     "text": [
      "[1, 2, 3, 4, 8, 9] [1, 2, 3, 4, 8, 9]\n"
     ]
    }
   ],
   "source": [
    "print(num_list,num_list1)"
   ]
  },
  {
   "cell_type": "code",
   "execution_count": 114,
   "id": "4061f166",
   "metadata": {},
   "outputs": [],
   "source": [
    "num_list2 = [3, 2, [2, 4, 6], 5, 9]"
   ]
  },
  {
   "cell_type": "code",
   "execution_count": 115,
   "id": "74d8ef7f",
   "metadata": {},
   "outputs": [
    {
     "name": "stdout",
     "output_type": "stream",
     "text": [
      "[3, 2, [2, 4, 6], 5, 9]\n"
     ]
    }
   ],
   "source": [
    "print(num_list2)"
   ]
  },
  {
   "cell_type": "code",
   "execution_count": 116,
   "id": "f3a08f96",
   "metadata": {},
   "outputs": [],
   "source": [
    "name_list = [\"Adar\",\"Jobon\",\"Rakib\",\"Sunny\"]"
   ]
  },
  {
   "cell_type": "code",
   "execution_count": 117,
   "id": "906ee390",
   "metadata": {},
   "outputs": [
    {
     "name": "stdout",
     "output_type": "stream",
     "text": [
      "['Adar', 'Jobon', 'Rakib', 'Sunny']\n"
     ]
    }
   ],
   "source": [
    "print(name_list)"
   ]
  },
  {
   "cell_type": "code",
   "execution_count": 118,
   "id": "63c03ff2",
   "metadata": {},
   "outputs": [],
   "source": [
    "mixed_list = [\"Sourob\", True, 1, 1.34, 8+0j]"
   ]
  },
  {
   "cell_type": "code",
   "execution_count": 119,
   "id": "fe76aea1",
   "metadata": {},
   "outputs": [
    {
     "name": "stdout",
     "output_type": "stream",
     "text": [
      "['Sourob', True, 1, 1.34, (8+0j)]\n"
     ]
    }
   ],
   "source": [
    "print(mixed_list)"
   ]
  },
  {
   "cell_type": "code",
   "execution_count": 120,
   "id": "5b566851",
   "metadata": {},
   "outputs": [
    {
     "data": {
      "text/plain": [
       "[True]"
      ]
     },
     "execution_count": 120,
     "metadata": {},
     "output_type": "execute_result"
    }
   ],
   "source": [
    "mixed_list[1:2]"
   ]
  },
  {
   "cell_type": "code",
   "execution_count": 121,
   "id": "05fb5640",
   "metadata": {},
   "outputs": [
    {
     "data": {
      "text/plain": [
       "[3, 2, [2, 4, 6], 5, 9]"
      ]
     },
     "execution_count": 121,
     "metadata": {},
     "output_type": "execute_result"
    }
   ],
   "source": [
    "num_list2"
   ]
  },
  {
   "cell_type": "code",
   "execution_count": 122,
   "id": "47251f83",
   "metadata": {},
   "outputs": [
    {
     "data": {
      "text/plain": [
       "[2, 4, 6]"
      ]
     },
     "execution_count": 122,
     "metadata": {},
     "output_type": "execute_result"
    }
   ],
   "source": [
    "num_list2[2]"
   ]
  },
  {
   "cell_type": "code",
   "execution_count": 123,
   "id": "9f50e884",
   "metadata": {},
   "outputs": [
    {
     "data": {
      "text/plain": [
       "[2, 4]"
      ]
     },
     "execution_count": 123,
     "metadata": {},
     "output_type": "execute_result"
    }
   ],
   "source": [
    "num_list2[2][:2]"
   ]
  },
  {
   "cell_type": "code",
   "execution_count": 124,
   "id": "39f2ee7b",
   "metadata": {},
   "outputs": [],
   "source": [
    "num_list2.append(10)"
   ]
  },
  {
   "cell_type": "code",
   "execution_count": 125,
   "id": "10c3657b",
   "metadata": {},
   "outputs": [
    {
     "name": "stdout",
     "output_type": "stream",
     "text": [
      "[3, 2, [2, 4, 6], 5, 9, 10]\n"
     ]
    }
   ],
   "source": [
    "print(num_list2)"
   ]
  },
  {
   "cell_type": "code",
   "execution_count": 126,
   "id": "4a44f03c",
   "metadata": {},
   "outputs": [],
   "source": [
    "num_list2.insert(3, 100)"
   ]
  },
  {
   "cell_type": "code",
   "execution_count": 127,
   "id": "2b5a51f4",
   "metadata": {},
   "outputs": [
    {
     "name": "stdout",
     "output_type": "stream",
     "text": [
      "[3, 2, [2, 4, 6], 100, 5, 9, 10]\n"
     ]
    }
   ],
   "source": [
    "print(num_list2)"
   ]
  },
  {
   "cell_type": "code",
   "execution_count": 128,
   "id": "1e3d028e",
   "metadata": {},
   "outputs": [
    {
     "data": {
      "text/plain": [
       "10"
      ]
     },
     "execution_count": 128,
     "metadata": {},
     "output_type": "execute_result"
    }
   ],
   "source": [
    "num_list2.pop()"
   ]
  },
  {
   "cell_type": "code",
   "execution_count": 129,
   "id": "fd358e15",
   "metadata": {},
   "outputs": [
    {
     "name": "stdout",
     "output_type": "stream",
     "text": [
      "[3, 2, [2, 4, 6], 100, 5, 9]\n"
     ]
    }
   ],
   "source": [
    "print(num_list2)"
   ]
  },
  {
   "cell_type": "code",
   "execution_count": 130,
   "id": "5e6efc0d",
   "metadata": {},
   "outputs": [
    {
     "data": {
      "text/plain": [
       "['Sourob', True, 1, 1.34, (8+0j)]"
      ]
     },
     "execution_count": 130,
     "metadata": {},
     "output_type": "execute_result"
    }
   ],
   "source": [
    "mixed_list"
   ]
  },
  {
   "cell_type": "code",
   "execution_count": 131,
   "id": "59405a6e",
   "metadata": {},
   "outputs": [],
   "source": [
    "new_list = mixed_list.copy()"
   ]
  },
  {
   "cell_type": "code",
   "execution_count": 132,
   "id": "39e6ec60",
   "metadata": {},
   "outputs": [],
   "source": [
    "mixed_list.clear()"
   ]
  },
  {
   "cell_type": "code",
   "execution_count": 133,
   "id": "a9e30d23",
   "metadata": {},
   "outputs": [
    {
     "data": {
      "text/plain": [
       "[]"
      ]
     },
     "execution_count": 133,
     "metadata": {},
     "output_type": "execute_result"
    }
   ],
   "source": [
    "mixed_list"
   ]
  },
  {
   "cell_type": "code",
   "execution_count": 134,
   "id": "bf4385bd",
   "metadata": {},
   "outputs": [
    {
     "data": {
      "text/plain": [
       "['Sourob', True, 1, 1.34, (8+0j)]"
      ]
     },
     "execution_count": 134,
     "metadata": {},
     "output_type": "execute_result"
    }
   ],
   "source": [
    "new_list"
   ]
  },
  {
   "cell_type": "code",
   "execution_count": 135,
   "id": "81d91bda",
   "metadata": {},
   "outputs": [],
   "source": [
    "corors = [\"Red\", \"Yellow\", \"Meroon\"]"
   ]
  },
  {
   "cell_type": "code",
   "execution_count": 136,
   "id": "b44a62bb",
   "metadata": {},
   "outputs": [],
   "source": [
    "color = corors.copy()"
   ]
  },
  {
   "cell_type": "code",
   "execution_count": 137,
   "id": "7c075d66",
   "metadata": {},
   "outputs": [
    {
     "data": {
      "text/plain": [
       "['Red', 'Yellow', 'Meroon']"
      ]
     },
     "execution_count": 137,
     "metadata": {},
     "output_type": "execute_result"
    }
   ],
   "source": [
    "color"
   ]
  },
  {
   "cell_type": "code",
   "execution_count": 138,
   "id": "06c2e78e",
   "metadata": {},
   "outputs": [],
   "source": [
    "color.extend([\"Green\",\"Black\",\"Ash\"])"
   ]
  },
  {
   "cell_type": "code",
   "execution_count": 139,
   "id": "3b46f0b9",
   "metadata": {},
   "outputs": [
    {
     "data": {
      "text/plain": [
       "['Red', 'Yellow', 'Meroon', 'Green', 'Black', 'Ash']"
      ]
     },
     "execution_count": 139,
     "metadata": {},
     "output_type": "execute_result"
    }
   ],
   "source": [
    "color"
   ]
  },
  {
   "cell_type": "code",
   "execution_count": 140,
   "id": "446dcbeb",
   "metadata": {},
   "outputs": [],
   "source": [
    "color.append('Purple')"
   ]
  },
  {
   "cell_type": "code",
   "execution_count": 141,
   "id": "01a06a7d",
   "metadata": {},
   "outputs": [
    {
     "data": {
      "text/plain": [
       "['Red', 'Yellow', 'Meroon', 'Green', 'Black', 'Ash', 'Purple']"
      ]
     },
     "execution_count": 141,
     "metadata": {},
     "output_type": "execute_result"
    }
   ],
   "source": [
    "color"
   ]
  },
  {
   "cell_type": "code",
   "execution_count": 142,
   "id": "61f0debb",
   "metadata": {},
   "outputs": [],
   "source": [
    "del corors"
   ]
  },
  {
   "cell_type": "code",
   "execution_count": 143,
   "id": "0c71f552",
   "metadata": {},
   "outputs": [],
   "source": [
    "color[6] = \"Beguni\""
   ]
  },
  {
   "cell_type": "code",
   "execution_count": 144,
   "id": "3496a94e",
   "metadata": {},
   "outputs": [
    {
     "data": {
      "text/plain": [
       "['Red', 'Yellow', 'Meroon', 'Green', 'Black', 'Ash', 'Beguni']"
      ]
     },
     "execution_count": 144,
     "metadata": {},
     "output_type": "execute_result"
    }
   ],
   "source": [
    "color"
   ]
  },
  {
   "cell_type": "markdown",
   "id": "ebfe9e04",
   "metadata": {},
   "source": [
    "## Creating Tuple\n",
    "### When you want to collect an immutable ordered list of elements, use a tuple. (For example, when you want a (name, phone_number) pair that you wish to use as an element in a set, you would need a tuple rather than a list since sets require elements be immutable).\n",
    "#### Tuple is immutable[unchangble]"
   ]
  },
  {
   "cell_type": "code",
   "execution_count": 145,
   "id": "f4b6e9d8",
   "metadata": {},
   "outputs": [],
   "source": [
    "tp1 = tuple((10, 20, 30, 40, 50))"
   ]
  },
  {
   "cell_type": "code",
   "execution_count": 146,
   "id": "9f6b4610",
   "metadata": {},
   "outputs": [],
   "source": [
    "tp2 = (5, 10, 15, 20, 25, 30)"
   ]
  },
  {
   "cell_type": "code",
   "execution_count": 147,
   "id": "82afe0d3",
   "metadata": {},
   "outputs": [
    {
     "data": {
      "text/plain": [
       "tuple"
      ]
     },
     "execution_count": 147,
     "metadata": {},
     "output_type": "execute_result"
    }
   ],
   "source": [
    "type(tp1)"
   ]
  },
  {
   "cell_type": "code",
   "execution_count": 148,
   "id": "32f3a9f1",
   "metadata": {},
   "outputs": [
    {
     "data": {
      "text/plain": [
       "tuple"
      ]
     },
     "execution_count": 148,
     "metadata": {},
     "output_type": "execute_result"
    }
   ],
   "source": [
    "type(tp2)"
   ]
  },
  {
   "cell_type": "code",
   "execution_count": 149,
   "id": "64c06189",
   "metadata": {},
   "outputs": [
    {
     "data": {
      "text/plain": [
       "(10, 20, 30)"
      ]
     },
     "execution_count": 149,
     "metadata": {},
     "output_type": "execute_result"
    }
   ],
   "source": [
    "tp1[0:3]"
   ]
  },
  {
   "cell_type": "code",
   "execution_count": 150,
   "id": "a18c9508",
   "metadata": {},
   "outputs": [
    {
     "data": {
      "text/plain": [
       "(30, 40, 50)"
      ]
     },
     "execution_count": 150,
     "metadata": {},
     "output_type": "execute_result"
    }
   ],
   "source": [
    "tp1[-3:]"
   ]
  },
  {
   "cell_type": "code",
   "execution_count": 151,
   "id": "3ac44944",
   "metadata": {},
   "outputs": [
    {
     "data": {
      "text/plain": [
       "(5, 10, 15)"
      ]
     },
     "execution_count": 151,
     "metadata": {},
     "output_type": "execute_result"
    }
   ],
   "source": [
    "tp2[0:3]"
   ]
  },
  {
   "cell_type": "code",
   "execution_count": 152,
   "id": "140d61b0",
   "metadata": {},
   "outputs": [
    {
     "ename": "TypeError",
     "evalue": "'tuple' object does not support item assignment",
     "output_type": "error",
     "traceback": [
      "\u001b[1;31m---------------------------------------------------------------------------\u001b[0m",
      "\u001b[1;31mTypeError\u001b[0m                                 Traceback (most recent call last)",
      "\u001b[1;32m~\\AppData\\Local\\Temp/ipykernel_28024/3525915847.py\u001b[0m in \u001b[0;36m<module>\u001b[1;34m\u001b[0m\n\u001b[1;32m----> 1\u001b[1;33m \u001b[0mtp2\u001b[0m\u001b[1;33m[\u001b[0m\u001b[1;36m3\u001b[0m\u001b[1;33m]\u001b[0m \u001b[1;33m=\u001b[0m \u001b[1;36m100\u001b[0m \u001b[1;31m## tuple cannot be canged\u001b[0m\u001b[1;33m\u001b[0m\u001b[1;33m\u001b[0m\u001b[0m\n\u001b[0m",
      "\u001b[1;31mTypeError\u001b[0m: 'tuple' object does not support item assignment"
     ]
    }
   ],
   "source": [
    "tp2[3] = 100 ## tuple cannot be canged"
   ]
  },
  {
   "cell_type": "code",
   "execution_count": null,
   "id": "547e7018",
   "metadata": {},
   "outputs": [],
   "source": [
    "tp3 = (\"Anamul Hoque Adar\", 10000, True, 10+0j)"
   ]
  },
  {
   "cell_type": "code",
   "execution_count": null,
   "id": "8ac698fe",
   "metadata": {},
   "outputs": [],
   "source": [
    "tp3"
   ]
  },
  {
   "cell_type": "code",
   "execution_count": null,
   "id": "a12de1e2",
   "metadata": {},
   "outputs": [],
   "source": [
    "type(tp3)"
   ]
  },
  {
   "cell_type": "markdown",
   "id": "1fbfecee",
   "metadata": {},
   "source": [
    "## Creating Set\n",
    "### When you want an unordered collection of unique elements, use a set. (For example, when you want the set of all the words used in a document)."
   ]
  },
  {
   "cell_type": "code",
   "execution_count": null,
   "id": "9d9b3e2a",
   "metadata": {},
   "outputs": [],
   "source": [
    "set1 = {10, 20, 30, 40, 50, 60}"
   ]
  },
  {
   "cell_type": "code",
   "execution_count": null,
   "id": "f4b515e5",
   "metadata": {},
   "outputs": [],
   "source": [
    "set2 = set({20,90,87, 'Anamul Hoque Adar'})"
   ]
  },
  {
   "cell_type": "code",
   "execution_count": null,
   "id": "3b65cdb9",
   "metadata": {},
   "outputs": [],
   "source": [
    "set1"
   ]
  },
  {
   "cell_type": "code",
   "execution_count": null,
   "id": "d691e971",
   "metadata": {},
   "outputs": [],
   "source": [
    "set2"
   ]
  },
  {
   "cell_type": "code",
   "execution_count": null,
   "id": "48159284",
   "metadata": {},
   "outputs": [],
   "source": [
    "set('Adar')"
   ]
  },
  {
   "cell_type": "markdown",
   "id": "eb863c04",
   "metadata": {},
   "source": [
    "## Creating Dictionaries\n",
    "### When you want a mapping from keys to values, use a dict. (For example, when you want a telephone book which maps names to phone numbers: {'John Smith' : '555-1212'}). Note the keys in a dict are unordered. (If you iterate through a dict (telephone book), the keys (names) may show up in any order)."
   ]
  },
  {
   "cell_type": "code",
   "execution_count": null,
   "id": "74bea289",
   "metadata": {},
   "outputs": [],
   "source": [
    "dic1 = {\"Name\": \"Anamul Hoque Adar\", \"Age\": 26, \"Hometown\": \"Dhaka\"}"
   ]
  },
  {
   "cell_type": "code",
   "execution_count": null,
   "id": "82c54e02",
   "metadata": {},
   "outputs": [],
   "source": [
    "type(dic1)"
   ]
  },
  {
   "cell_type": "code",
   "execution_count": null,
   "id": "fe78c568",
   "metadata": {},
   "outputs": [],
   "source": [
    "dic1"
   ]
  },
  {
   "cell_type": "code",
   "execution_count": null,
   "id": "75282660",
   "metadata": {
    "scrolled": true
   },
   "outputs": [],
   "source": [
    "dic1[\"Name\"]"
   ]
  },
  {
   "cell_type": "markdown",
   "id": "7d1031e4",
   "metadata": {},
   "source": [
    "## Comparision Operator"
   ]
  },
  {
   "cell_type": "markdown",
   "id": "aa921f24",
   "metadata": {},
   "source": [
    "### + - * / <= >= != =="
   ]
  },
  {
   "cell_type": "code",
   "execution_count": null,
   "id": "b0e09e2d",
   "metadata": {},
   "outputs": [],
   "source": [
    "x = 10\n",
    "y = 20"
   ]
  },
  {
   "cell_type": "code",
   "execution_count": null,
   "id": "d95eb69a",
   "metadata": {},
   "outputs": [],
   "source": [
    "x > y"
   ]
  },
  {
   "cell_type": "code",
   "execution_count": null,
   "id": "fb60a5c9",
   "metadata": {},
   "outputs": [],
   "source": [
    "x < y"
   ]
  },
  {
   "cell_type": "code",
   "execution_count": null,
   "id": "26502c65",
   "metadata": {},
   "outputs": [],
   "source": [
    "x <= y"
   ]
  },
  {
   "cell_type": "code",
   "execution_count": null,
   "id": "2590cce0",
   "metadata": {},
   "outputs": [],
   "source": [
    "x >= y"
   ]
  },
  {
   "cell_type": "code",
   "execution_count": null,
   "id": "e56b3eb2",
   "metadata": {},
   "outputs": [],
   "source": [
    "x != y"
   ]
  },
  {
   "cell_type": "code",
   "execution_count": null,
   "id": "1e6d93cc",
   "metadata": {},
   "outputs": [],
   "source": [
    "x == y"
   ]
  },
  {
   "cell_type": "code",
   "execution_count": null,
   "id": "d7ecb4e6",
   "metadata": {},
   "outputs": [],
   "source": [
    "type(x == y)"
   ]
  },
  {
   "cell_type": "markdown",
   "id": "a36d01b8",
   "metadata": {},
   "source": [
    "## Conditional Statement"
   ]
  },
  {
   "cell_type": "code",
   "execution_count": null,
   "id": "868bef8a",
   "metadata": {},
   "outputs": [],
   "source": [
    "if 15 == 3*5:\n",
    "    print(\"Condition Mached\")"
   ]
  },
  {
   "cell_type": "code",
   "execution_count": null,
   "id": "6f1ce927",
   "metadata": {},
   "outputs": [],
   "source": [
    "if 10 >= 20-5:\n",
    "    print('Condition Mached')"
   ]
  },
  {
   "cell_type": "code",
   "execution_count": null,
   "id": "33af50c8",
   "metadata": {},
   "outputs": [],
   "source": [
    "x = 10\n",
    "if x>9:\n",
    "    print('X grether than 9')\n",
    "if x<9:\n",
    "    print('9 grether than x')"
   ]
  },
  {
   "cell_type": "code",
   "execution_count": null,
   "id": "9b208e0e",
   "metadata": {},
   "outputs": [],
   "source": [
    "a = 80\n",
    "b = 90\n",
    "if a >= b:\n",
    "    print('A is equal or gretter than b')\n",
    "elif a <= b:\n",
    "    print('A is less or equal than b')\n",
    "else:\n",
    "    print('Previous condition are invalid')"
   ]
  },
  {
   "cell_type": "markdown",
   "id": "608c4f08",
   "metadata": {},
   "source": [
    "## While Loop"
   ]
  },
  {
   "cell_type": "code",
   "execution_count": null,
   "id": "0cf10857",
   "metadata": {},
   "outputs": [],
   "source": [
    "x = 1\n",
    "while x<=7:\n",
    "    print(x)\n",
    "    x = x+1"
   ]
  },
  {
   "cell_type": "markdown",
   "id": "613ab608",
   "metadata": {},
   "source": [
    "## For loop"
   ]
  },
  {
   "cell_type": "code",
   "execution_count": null,
   "id": "925ee1ed",
   "metadata": {},
   "outputs": [],
   "source": [
    "## Using list\n",
    "\n",
    "list1 = [\"Apple\", \"Orange\", \"Banana\"]\n",
    "for i in list1:\n",
    "    print(i)"
   ]
  },
  {
   "cell_type": "code",
   "execution_count": null,
   "id": "f3bbecfa",
   "metadata": {},
   "outputs": [],
   "source": [
    "## using Tuple\n",
    "tup1 = ('10', 'Anamul', 2000)\n",
    "for i in tup1:\n",
    "    print(i)"
   ]
  },
  {
   "cell_type": "code",
   "execution_count": 153,
   "id": "387bac11",
   "metadata": {},
   "outputs": [
    {
     "name": "stdout",
     "output_type": "stream",
     "text": [
      "0\n",
      "1\n",
      "2\n",
      "3\n",
      "4\n"
     ]
    }
   ],
   "source": [
    "## using range() function\n",
    "for x in range(5):\n",
    "    print(x)"
   ]
  },
  {
   "cell_type": "code",
   "execution_count": 154,
   "id": "40b4688f",
   "metadata": {},
   "outputs": [
    {
     "name": "stdout",
     "output_type": "stream",
     "text": [
      "10\n",
      "11\n",
      "12\n",
      "13\n",
      "14\n"
     ]
    }
   ],
   "source": [
    "for x in range(10, 15):  ## range(20, 30) 20-Starting point, 30-Ending Point\n",
    "    print(x)"
   ]
  },
  {
   "cell_type": "code",
   "execution_count": null,
   "id": "b24c0571",
   "metadata": {},
   "outputs": [],
   "source": [
    "for x in range(20, 30, 2): ## range(20, 30, 2) 20-Starting point, 30-Ending Point, 2-increment by\n",
    "    print(x)"
   ]
  },
  {
   "cell_type": "code",
   "execution_count": 155,
   "id": "b3bc3dfa",
   "metadata": {},
   "outputs": [
    {
     "name": "stdout",
     "output_type": "stream",
     "text": [
      "Enter a StringJibon\n",
      "J\n",
      "i\n",
      "b\n",
      "o\n",
      "n\n"
     ]
    }
   ],
   "source": [
    "name = input(\"Enter a String\")\n",
    "for i in name:\n",
    "    print(i)"
   ]
  },
  {
   "cell_type": "code",
   "execution_count": null,
   "id": "2872a5ca",
   "metadata": {},
   "outputs": [],
   "source": [
    "name1 = input('Enter a string ')\n",
    "for i in name1:\n",
    "    if i == 'o':\n",
    "        break\n",
    "    print(i)"
   ]
  },
  {
   "cell_type": "code",
   "execution_count": null,
   "id": "b22e7c28",
   "metadata": {},
   "outputs": [],
   "source": [
    "name1 = input('Enter a string ')\n",
    "for i in name1:\n",
    "    if i == 'o':\n",
    "        continue\n",
    "    print(i)"
   ]
  },
  {
   "cell_type": "markdown",
   "id": "608f1e53",
   "metadata": {},
   "source": [
    "## Python Built in function"
   ]
  },
  {
   "cell_type": "code",
   "execution_count": null,
   "id": "a829e45f",
   "metadata": {},
   "outputs": [],
   "source": [
    "## Absolute value\n",
    "abs(-11.5)"
   ]
  },
  {
   "cell_type": "code",
   "execution_count": null,
   "id": "03a387bf",
   "metadata": {},
   "outputs": [],
   "source": [
    "## Max\n",
    "x = [20,30,5]\n",
    "print('Max value is: ', max(x))\n",
    "\n",
    "## Min\n",
    "x = [20,30,5]\n",
    "print('Min value is: ', min(x))\n",
    "\n",
    "## Sum\n",
    "x = [20,30,5]\n",
    "print('Sum value is: ', sum(x))\n",
    "\n",
    "## Zip\n",
    "x = [20,30,5]\n",
    "y = ['Apple','Banana']\n",
    "z = ['Onion', 'Garlic']\n",
    "print('Zip value is: ', tuple(zip(x,y,z)))"
   ]
  },
  {
   "cell_type": "code",
   "execution_count": null,
   "id": "49e02308",
   "metadata": {},
   "outputs": [],
   "source": [
    "x = [20,30,5]\n",
    "y = ['Apple','Banana']\n",
    "z = ['Onion', 'Garlic']\n",
    "\n",
    "for i in list(zip(x,y,z)):\n",
    "    print(i)"
   ]
  },
  {
   "cell_type": "code",
   "execution_count": null,
   "id": "8f6bcbd4",
   "metadata": {},
   "outputs": [],
   "source": [
    "def addition(a, b):\n",
    "    \"This function is use to add 2 numbers. The function has contain two parameter\"\n",
    "    result = a+b\n",
    "    return result"
   ]
  },
  {
   "cell_type": "code",
   "execution_count": null,
   "id": "5329b710",
   "metadata": {},
   "outputs": [],
   "source": [
    "addition(10,10)"
   ]
  },
  {
   "cell_type": "code",
   "execution_count": null,
   "id": "781073f0",
   "metadata": {},
   "outputs": [],
   "source": [
    "help(addition)"
   ]
  },
  {
   "cell_type": "markdown",
   "id": "18a24640",
   "metadata": {},
   "source": [
    "## Lambda Function\n",
    "#### A lambda function is a small anonymous function. A lambda function can take any number of arguments, but can only have one expression. The power of lambda is better shown when you use them as an anonymous function inside another function. Say you have a function definition that takes one argument, and that argument will be multiplied with an unknown number:"
   ]
  },
  {
   "cell_type": "code",
   "execution_count": null,
   "id": "a15a1fba",
   "metadata": {},
   "outputs": [],
   "source": [
    "x = lambda a:a * 10\n",
    "print(x(10))"
   ]
  },
  {
   "cell_type": "code",
   "execution_count": null,
   "id": "f4965be9",
   "metadata": {},
   "outputs": [],
   "source": [
    "sums = lambda a,b : a*b\n",
    "print(sums(10,3))"
   ]
  },
  {
   "cell_type": "code",
   "execution_count": null,
   "id": "ddefc832",
   "metadata": {},
   "outputs": [],
   "source": [
    "def sums(n):\n",
    "    res = lambda a : a % n\n",
    "    return res"
   ]
  },
  {
   "cell_type": "code",
   "execution_count": null,
   "id": "9cae9f0e",
   "metadata": {},
   "outputs": [],
   "source": [
    "res = sums(4)\n",
    "print(res(10))"
   ]
  },
  {
   "cell_type": "markdown",
   "id": "95a23fc6",
   "metadata": {},
   "source": [
    "## Password Checking Example"
   ]
  },
  {
   "cell_type": "code",
   "execution_count": 156,
   "id": "083550da",
   "metadata": {},
   "outputs": [
    {
     "name": "stdout",
     "output_type": "stream",
     "text": [
      "Enter the passwordAdar\n",
      "Correct password\n"
     ]
    }
   ],
   "source": [
    "# Password-Checking-Example\n",
    "password = input(\"Enter the password\")\n",
    "if password == '123%#$':\n",
    "    print(\"Wrong password\")\n",
    "else:\n",
    "    print(\"Correct password\")\n"
   ]
  },
  {
   "cell_type": "code",
   "execution_count": null,
   "id": "98f391bb",
   "metadata": {},
   "outputs": [],
   "source": [
    "for i in range(4):\n",
    "    password = input(\"Enter the password\")\n",
    "    if password == '123%#$':\n",
    "        print(\"Access Granted\")\n",
    "        break\n",
    "    print(\"Wrong Password\")\n",
    "else:\n",
    "    print(\"The process is complete! Thanks\")"
   ]
  },
  {
   "cell_type": "markdown",
   "id": "172ef7e8",
   "metadata": {},
   "source": [
    "## Array"
   ]
  },
  {
   "cell_type": "code",
   "execution_count": 157,
   "id": "2cc84116",
   "metadata": {},
   "outputs": [],
   "source": [
    "import array as ar"
   ]
  },
  {
   "cell_type": "code",
   "execution_count": 158,
   "id": "9d635c1c",
   "metadata": {},
   "outputs": [],
   "source": [
    "ar.cars = ['Red','Green','Yellow','Blue','Black']"
   ]
  },
  {
   "cell_type": "code",
   "execution_count": null,
   "id": "75bf2248",
   "metadata": {},
   "outputs": [],
   "source": [
    "for i in ar.cars:\n",
    "    print(i)"
   ]
  },
  {
   "cell_type": "code",
   "execution_count": 159,
   "id": "59b24abc",
   "metadata": {},
   "outputs": [
    {
     "name": "stdout",
     "output_type": "stream",
     "text": [
      "how many numbers you want to input10\n",
      "Enter the number10\n",
      "Enter the number20\n",
      "Enter the number30\n",
      "Enter the number30\n",
      "Enter the number40\n",
      "Enter the number32\n",
      "Enter the number76\n",
      "Enter the number65\n",
      "Enter the number42\n",
      "Enter the number14\n",
      "All the numbers :  [10, 20, 30, 30, 40, 32, 76, 65, 42, 14]\n"
     ]
    }
   ],
   "source": [
    "my_list = []\n",
    "num = int(input(\"how many numbers you want to input\"))\n",
    "for i in range(num):\n",
    "    val = int(input('Enter the number'))\n",
    "    my_list.append(val)\n",
    "print('All the numbers : ', my_list)"
   ]
  },
  {
   "cell_type": "code",
   "execution_count": null,
   "id": "117b0328",
   "metadata": {},
   "outputs": [],
   "source": [
    "cars = []\n",
    "num = int(input('how many numbers you want to input'))\n",
    "for i in range(num):\n",
    "    val = input('Enter the values')\n",
    "    cars.append(val)\n",
    "print('Values : ',cars)\n",
    "    "
   ]
  },
  {
   "cell_type": "code",
   "execution_count": null,
   "id": "c5ae3445",
   "metadata": {},
   "outputs": [],
   "source": [
    "con = []\n",
    "num = int(input('how many numbers you want to input'))\n",
    "for i in range(num):\n",
    "    val = input('Take the values')\n",
    "    con.append(val)\n",
    "    print(con)"
   ]
  },
  {
   "cell_type": "code",
   "execution_count": null,
   "id": "2d67d244",
   "metadata": {},
   "outputs": [],
   "source": [
    "2+2"
   ]
  },
  {
   "cell_type": "markdown",
   "id": "7537a3a5",
   "metadata": {},
   "source": [
    "## Working with Numpy\n",
    "#### When we have to work on Numerical data, we prefer the numpy module."
   ]
  },
  {
   "cell_type": "code",
   "execution_count": null,
   "id": "074242ea",
   "metadata": {},
   "outputs": [],
   "source": [
    "pip install numpy"
   ]
  },
  {
   "cell_type": "code",
   "execution_count": 1,
   "id": "648bff5b",
   "metadata": {},
   "outputs": [],
   "source": [
    "import numpy as np"
   ]
  },
  {
   "cell_type": "code",
   "execution_count": 162,
   "id": "9abc3bfe",
   "metadata": {},
   "outputs": [],
   "source": [
    "arr1 = np.array([1,3,5,7,8])"
   ]
  },
  {
   "cell_type": "code",
   "execution_count": 163,
   "id": "b6ec1a79",
   "metadata": {},
   "outputs": [
    {
     "data": {
      "text/plain": [
       "array([1, 3, 5, 7, 8])"
      ]
     },
     "execution_count": 163,
     "metadata": {},
     "output_type": "execute_result"
    }
   ],
   "source": [
    "arr1"
   ]
  },
  {
   "cell_type": "code",
   "execution_count": null,
   "id": "40b5b322",
   "metadata": {},
   "outputs": [],
   "source": [
    "print(arr1)"
   ]
  },
  {
   "cell_type": "code",
   "execution_count": null,
   "id": "1e9f658d",
   "metadata": {},
   "outputs": [],
   "source": [
    "type(np.array([1,3,5,7,8]))"
   ]
  },
  {
   "cell_type": "code",
   "execution_count": null,
   "id": "464857dd",
   "metadata": {},
   "outputs": [],
   "source": [
    "## Checking numpy version\n",
    "print(np.__version__)"
   ]
  },
  {
   "cell_type": "code",
   "execution_count": 164,
   "id": "65d9d3af",
   "metadata": {},
   "outputs": [
    {
     "name": "stdout",
     "output_type": "stream",
     "text": [
      "100\n"
     ]
    }
   ],
   "source": [
    "## Creating 0-D array\n",
    "arr0d = np.array(100)\n",
    "print(arr0d)"
   ]
  },
  {
   "cell_type": "code",
   "execution_count": 165,
   "id": "fb467ed8",
   "metadata": {},
   "outputs": [
    {
     "name": "stdout",
     "output_type": "stream",
     "text": [
      "0\n"
     ]
    }
   ],
   "source": [
    "## Cheak the diamension of array \n",
    "print(arr0d.ndim)"
   ]
  },
  {
   "cell_type": "code",
   "execution_count": null,
   "id": "5f4fa994",
   "metadata": {},
   "outputs": [],
   "source": [
    "## Creating 1-D array\n",
    "arr1d = np.array([1, 2, 3, 4, 5])\n",
    "print(arr1d)"
   ]
  },
  {
   "cell_type": "code",
   "execution_count": null,
   "id": "1c298933",
   "metadata": {},
   "outputs": [],
   "source": [
    "## Check the diamension of Array\n",
    "print(arr1d.ndim)"
   ]
  },
  {
   "cell_type": "code",
   "execution_count": 2,
   "id": "0ffd6a83",
   "metadata": {},
   "outputs": [
    {
     "name": "stdout",
     "output_type": "stream",
     "text": [
      "[[ 1  2  3  4]\n",
      " [10 20 30 40]]\n"
     ]
    }
   ],
   "source": [
    "## Creating 2-D array\n",
    "arr2d = np.array([[1, 2, 3, 4], [10, 20, 30, 40]])\n",
    "print(arr2d)"
   ]
  },
  {
   "cell_type": "code",
   "execution_count": 3,
   "id": "33bf57f1",
   "metadata": {},
   "outputs": [
    {
     "name": "stdout",
     "output_type": "stream",
     "text": [
      "2\n"
     ]
    }
   ],
   "source": [
    "## Check the diamension of array\n",
    "print(arr2d.ndim)"
   ]
  },
  {
   "cell_type": "code",
   "execution_count": 4,
   "id": "32a0f7e3",
   "metadata": {
    "scrolled": true
   },
   "outputs": [
    {
     "name": "stdout",
     "output_type": "stream",
     "text": [
      "[[[10 20 30 40]\n",
      "  [ 8  4  8  3]]\n",
      "\n",
      " [[20 30 40 50]\n",
      "  [31 41 51 61]]]\n"
     ]
    }
   ],
   "source": [
    "## Creating 3-D array\n",
    "arr3d = np.array([[[10, 20, 30, 40], [8, 4, 8, 3]], [[20, 30, 40,50], [31, 41, 51,61]]])\n",
    "print(arr3d)"
   ]
  },
  {
   "cell_type": "code",
   "execution_count": 5,
   "id": "9da0459d",
   "metadata": {},
   "outputs": [
    {
     "name": "stdout",
     "output_type": "stream",
     "text": [
      "3\n"
     ]
    }
   ],
   "source": [
    "## Check the diamension of array\n",
    "print(arr3d.ndim)"
   ]
  },
  {
   "cell_type": "markdown",
   "id": "89d9864a",
   "metadata": {},
   "source": [
    "### Access numpy array elements"
   ]
  },
  {
   "cell_type": "code",
   "execution_count": 7,
   "id": "ec86e020",
   "metadata": {},
   "outputs": [
    {
     "name": "stdout",
     "output_type": "stream",
     "text": [
      "[10 20 90 99]\n"
     ]
    }
   ],
   "source": [
    "## 1-D array\n",
    "arr1 = np.array([10, 20, 90, 99])\n",
    "print(arr1)"
   ]
  },
  {
   "cell_type": "code",
   "execution_count": 8,
   "id": "921a0ccb",
   "metadata": {},
   "outputs": [
    {
     "data": {
      "text/plain": [
       "10"
      ]
     },
     "execution_count": 8,
     "metadata": {},
     "output_type": "execute_result"
    }
   ],
   "source": [
    "## Access the elements\n",
    "arr1[0]"
   ]
  },
  {
   "cell_type": "code",
   "execution_count": 9,
   "id": "a77bea73",
   "metadata": {},
   "outputs": [
    {
     "data": {
      "text/plain": [
       "array([10, 20, 90])"
      ]
     },
     "execution_count": 9,
     "metadata": {},
     "output_type": "execute_result"
    }
   ],
   "source": [
    "arr1[0:3]"
   ]
  },
  {
   "cell_type": "code",
   "execution_count": 10,
   "id": "b36f352a",
   "metadata": {},
   "outputs": [
    {
     "data": {
      "text/plain": [
       "array([90, 99])"
      ]
     },
     "execution_count": 10,
     "metadata": {},
     "output_type": "execute_result"
    }
   ],
   "source": [
    "arr1[-2:]"
   ]
  },
  {
   "cell_type": "code",
   "execution_count": 11,
   "id": "9001f54e",
   "metadata": {},
   "outputs": [
    {
     "name": "stdout",
     "output_type": "stream",
     "text": [
      "109\n"
     ]
    }
   ],
   "source": [
    "## Add array elements\n",
    "print(arr1[0] + arr1[3]) ## 10 + 99"
   ]
  },
  {
   "cell_type": "code",
   "execution_count": null,
   "id": "0aa11945",
   "metadata": {},
   "outputs": [],
   "source": [
    "## Subtract array elements\n",
    "print(arr1[3] - arr1[2]) ## 99 - 90"
   ]
  },
  {
   "cell_type": "code",
   "execution_count": 166,
   "id": "dc187bf0",
   "metadata": {},
   "outputs": [
    {
     "name": "stdout",
     "output_type": "stream",
     "text": [
      "[[10 70 30 15]\n",
      " [89 20 45 65]]\n"
     ]
    }
   ],
   "source": [
    "## Access 2-D Array\n",
    "arr2 = np.array([[10, 70, 30, 15], [89, 20, 45, 65]])\n",
    "print(arr2)"
   ]
  },
  {
   "cell_type": "code",
   "execution_count": 167,
   "id": "ed0688e2",
   "metadata": {},
   "outputs": [
    {
     "data": {
      "text/plain": [
       "70"
      ]
     },
     "execution_count": 167,
     "metadata": {},
     "output_type": "execute_result"
    }
   ],
   "source": [
    "arr2[0,1]"
   ]
  },
  {
   "cell_type": "code",
   "execution_count": 168,
   "id": "c66f799b",
   "metadata": {},
   "outputs": [
    {
     "name": "stdout",
     "output_type": "stream",
     "text": [
      "[[[10 20 45 60]\n",
      "  [20 34 35 65]]\n",
      "\n",
      " [[45 24 36 27]\n",
      "  [89 12 14 34]]]\n"
     ]
    }
   ],
   "source": [
    "## Access 3-D array\n",
    "arr3 = np.array([[[10, 20, 45, 60],[20, 34, 35, 65]], [[45, 24, 36, 27],[89, 12, 14, 34]]])\n",
    "print(arr3)"
   ]
  },
  {
   "cell_type": "code",
   "execution_count": 169,
   "id": "ad88ddb4",
   "metadata": {
    "scrolled": true
   },
   "outputs": [
    {
     "data": {
      "text/plain": [
       "65"
      ]
     },
     "execution_count": 169,
     "metadata": {},
     "output_type": "execute_result"
    }
   ],
   "source": [
    "arr3[0,1,3]"
   ]
  },
  {
   "cell_type": "markdown",
   "id": "90e9b429",
   "metadata": {},
   "source": [
    "### Mathematical Operation with Array"
   ]
  },
  {
   "cell_type": "code",
   "execution_count": null,
   "id": "5da0e2b1",
   "metadata": {},
   "outputs": [],
   "source": [
    "arr1 = np.array([10, 12, 13, 14])\n",
    "arr2 = np.ones(4)"
   ]
  },
  {
   "cell_type": "code",
   "execution_count": null,
   "id": "d18c408e",
   "metadata": {},
   "outputs": [],
   "source": [
    "arr1 + arr2"
   ]
  },
  {
   "cell_type": "code",
   "execution_count": null,
   "id": "0f80ecc4",
   "metadata": {},
   "outputs": [],
   "source": [
    "arr1 * arr2"
   ]
  },
  {
   "cell_type": "code",
   "execution_count": null,
   "id": "e1bbca0d",
   "metadata": {},
   "outputs": [],
   "source": [
    "arr1 / arr2"
   ]
  },
  {
   "cell_type": "markdown",
   "id": "cd6da1ef",
   "metadata": {},
   "source": [
    "### Array Aggregate Function"
   ]
  },
  {
   "cell_type": "code",
   "execution_count": null,
   "id": "9db76f74",
   "metadata": {},
   "outputs": [],
   "source": [
    "arr1.sum()"
   ]
  },
  {
   "cell_type": "code",
   "execution_count": null,
   "id": "1defb51b",
   "metadata": {},
   "outputs": [],
   "source": [
    "arr1.max()"
   ]
  },
  {
   "cell_type": "code",
   "execution_count": null,
   "id": "e7780b36",
   "metadata": {},
   "outputs": [],
   "source": [
    "arr1.min()"
   ]
  },
  {
   "cell_type": "code",
   "execution_count": null,
   "id": "a43ee2b7",
   "metadata": {},
   "outputs": [],
   "source": [
    "arr10 = np.zeros((3,4), dtype= 'i')\n",
    "print(arr10)"
   ]
  },
  {
   "cell_type": "code",
   "execution_count": null,
   "id": "60e9b897",
   "metadata": {},
   "outputs": [],
   "source": [
    "arr11 = np.ones((4,5), dtype = 'i')\n",
    "print(arr11)"
   ]
  },
  {
   "cell_type": "code",
   "execution_count": null,
   "id": "814646b8",
   "metadata": {},
   "outputs": [],
   "source": [
    "arr11.dtype"
   ]
  },
  {
   "cell_type": "markdown",
   "id": "a3f1ef7c",
   "metadata": {},
   "source": [
    "### Numpy Array Copy VS View\n",
    "#### The main difference between a copy and a view of an array is that the copy is a new array, and the view is just a view of the original array."
   ]
  },
  {
   "cell_type": "code",
   "execution_count": null,
   "id": "56eee048",
   "metadata": {},
   "outputs": [],
   "source": [
    "arr_sal = np.array((10000, 15000, 20000, 23000, 21000))"
   ]
  },
  {
   "cell_type": "code",
   "execution_count": null,
   "id": "2d4dc5e9",
   "metadata": {},
   "outputs": [],
   "source": [
    "print(arr_sal)"
   ]
  },
  {
   "cell_type": "code",
   "execution_count": null,
   "id": "9a60c504",
   "metadata": {},
   "outputs": [],
   "source": [
    "arrDep = arr_sal.copy()"
   ]
  },
  {
   "cell_type": "code",
   "execution_count": null,
   "id": "36337bd1",
   "metadata": {},
   "outputs": [],
   "source": [
    "print(arrDep)"
   ]
  },
  {
   "cell_type": "code",
   "execution_count": null,
   "id": "e2d70ec2",
   "metadata": {},
   "outputs": [],
   "source": [
    "print(arrDep)"
   ]
  },
  {
   "cell_type": "code",
   "execution_count": null,
   "id": "ef95bfc0",
   "metadata": {},
   "outputs": [],
   "source": [
    "arrView = arr_sal.view()"
   ]
  },
  {
   "cell_type": "code",
   "execution_count": null,
   "id": "f54c5415",
   "metadata": {},
   "outputs": [],
   "source": [
    "print(arr_sal)"
   ]
  },
  {
   "cell_type": "code",
   "execution_count": null,
   "id": "10ea3f73",
   "metadata": {},
   "outputs": [],
   "source": [
    "print(arrView)"
   ]
  },
  {
   "cell_type": "markdown",
   "id": "e3e8c1b9",
   "metadata": {},
   "source": [
    "### Array Shape"
   ]
  },
  {
   "cell_type": "code",
   "execution_count": null,
   "id": "4da8d1b9",
   "metadata": {},
   "outputs": [],
   "source": [
    "arr01 = np.array([[10, 20, 30, 40],[21, 31, 41, 51]])"
   ]
  },
  {
   "cell_type": "code",
   "execution_count": null,
   "id": "092e7856",
   "metadata": {},
   "outputs": [],
   "source": [
    "print(arr01)"
   ]
  },
  {
   "cell_type": "code",
   "execution_count": null,
   "id": "c222afe3",
   "metadata": {},
   "outputs": [],
   "source": [
    "print(arr01.shape)"
   ]
  },
  {
   "cell_type": "code",
   "execution_count": 12,
   "id": "da4c6977",
   "metadata": {},
   "outputs": [],
   "source": [
    "arr02 = np.array([1, 2, 3, 4, 5], ndmin=5)"
   ]
  },
  {
   "cell_type": "code",
   "execution_count": 13,
   "id": "26ccbb61",
   "metadata": {},
   "outputs": [
    {
     "name": "stdout",
     "output_type": "stream",
     "text": [
      "[[[[[1 2 3 4 5]]]]]\n"
     ]
    }
   ],
   "source": [
    "print(arr02)"
   ]
  },
  {
   "cell_type": "code",
   "execution_count": null,
   "id": "235c27a1",
   "metadata": {},
   "outputs": [],
   "source": [
    "print(arr02.shape)"
   ]
  },
  {
   "cell_type": "markdown",
   "id": "8b057f61",
   "metadata": {},
   "source": [
    "### Numpy Array Reshape"
   ]
  },
  {
   "cell_type": "code",
   "execution_count": null,
   "id": "e74c800f",
   "metadata": {},
   "outputs": [],
   "source": [
    "arr101 = np.array([10, 20, 30, 40, 50, 60, 70,80])"
   ]
  },
  {
   "cell_type": "code",
   "execution_count": null,
   "id": "e41503d6",
   "metadata": {},
   "outputs": [],
   "source": [
    "print(arr101)"
   ]
  },
  {
   "cell_type": "code",
   "execution_count": null,
   "id": "c9e7a440",
   "metadata": {},
   "outputs": [],
   "source": [
    "arr101.reshape(2, 4)"
   ]
  },
  {
   "cell_type": "code",
   "execution_count": 14,
   "id": "54b8216e",
   "metadata": {},
   "outputs": [],
   "source": [
    "arr102 = np.array([1, 2, 3, 4, 5, 6, 7, 8, 9, 10, 11, 12])"
   ]
  },
  {
   "cell_type": "code",
   "execution_count": 15,
   "id": "818a1aca",
   "metadata": {},
   "outputs": [
    {
     "name": "stdout",
     "output_type": "stream",
     "text": [
      "[ 1  2  3  4  5  6  7  8  9 10 11 12]\n"
     ]
    }
   ],
   "source": [
    "print(arr102)"
   ]
  },
  {
   "cell_type": "code",
   "execution_count": 16,
   "id": "ca538469",
   "metadata": {},
   "outputs": [
    {
     "name": "stdout",
     "output_type": "stream",
     "text": [
      "(12,)\n"
     ]
    }
   ],
   "source": [
    "print(arr102.shape)"
   ]
  },
  {
   "cell_type": "code",
   "execution_count": 17,
   "id": "32202998",
   "metadata": {},
   "outputs": [
    {
     "data": {
      "text/plain": [
       "array([[[ 1,  2],\n",
       "        [ 3,  4],\n",
       "        [ 5,  6]],\n",
       "\n",
       "       [[ 7,  8],\n",
       "        [ 9, 10],\n",
       "        [11, 12]]])"
      ]
     },
     "execution_count": 17,
     "metadata": {},
     "output_type": "execute_result"
    }
   ],
   "source": [
    "arr102.reshape(2 ,3, 2)"
   ]
  },
  {
   "cell_type": "markdown",
   "id": "08c2f9b5",
   "metadata": {},
   "source": [
    "### Array Iterating"
   ]
  },
  {
   "cell_type": "code",
   "execution_count": 18,
   "id": "88756cbb",
   "metadata": {},
   "outputs": [
    {
     "name": "stdout",
     "output_type": "stream",
     "text": [
      "1\n",
      "3\n",
      "5\n",
      "7\n",
      "9\n"
     ]
    }
   ],
   "source": [
    "arr1001 = np.array([1, 3, 5, 7, 9]) # 1-D Array\n",
    "\n",
    "for x in arr1001:\n",
    "    print(x)"
   ]
  },
  {
   "cell_type": "code",
   "execution_count": 19,
   "id": "5b7b3b12",
   "metadata": {},
   "outputs": [
    {
     "name": "stdout",
     "output_type": "stream",
     "text": [
      "[10 13 15 17]\n",
      "[21 23 24 25]\n"
     ]
    }
   ],
   "source": [
    "arr1002 = np.array([[10, 13, 15, 17], [21, 23, 24, 25]]) # 2-D Array\n",
    "\n",
    "for x in arr1002:\n",
    "    print(x)"
   ]
  },
  {
   "cell_type": "code",
   "execution_count": 20,
   "id": "71a22735",
   "metadata": {},
   "outputs": [
    {
     "name": "stdout",
     "output_type": "stream",
     "text": [
      "10\n",
      "13\n",
      "15\n",
      "17\n",
      "21\n",
      "23\n",
      "24\n",
      "25\n"
     ]
    }
   ],
   "source": [
    "arr1002 = np.array([[10, 13, 15, 17], [21, 23, 24, 25]]) # 2-D Array\n",
    "\n",
    "for x in arr1002:\n",
    "    for i in x:\n",
    "        print(i)"
   ]
  },
  {
   "cell_type": "code",
   "execution_count": 21,
   "id": "d07506ef",
   "metadata": {},
   "outputs": [
    {
     "name": "stdout",
     "output_type": "stream",
     "text": [
      "[[[[10 13 14 15]\n",
      "   [17 16 15 20]]\n",
      "\n",
      "  [[21 32 43 54]\n",
      "   [20 30 40 50]]]]\n"
     ]
    }
   ],
   "source": [
    "arr1003 = np.array([[[[10, 13, 14, 15],[17, 16, 15, 20]], [[21, 32, 43, 54],[20, 30, 40, 50]]]])\n",
    "print(arr1003)"
   ]
  },
  {
   "cell_type": "code",
   "execution_count": 175,
   "id": "1fb4b467",
   "metadata": {},
   "outputs": [
    {
     "name": "stdout",
     "output_type": "stream",
     "text": [
      "(1, 2, 2, 4)\n"
     ]
    }
   ],
   "source": [
    "print(arr1003.shape)"
   ]
  },
  {
   "cell_type": "code",
   "execution_count": 22,
   "id": "d6bcd1b5",
   "metadata": {},
   "outputs": [
    {
     "name": "stdout",
     "output_type": "stream",
     "text": [
      "10\n",
      "13\n",
      "14\n",
      "15\n",
      "17\n",
      "16\n",
      "15\n",
      "20\n",
      "21\n",
      "32\n",
      "43\n",
      "54\n",
      "20\n",
      "30\n",
      "40\n",
      "50\n"
     ]
    }
   ],
   "source": [
    "for x in arr1003:\n",
    "    for y in x:\n",
    "        for i in y:\n",
    "            for j in i:\n",
    "                print(j)"
   ]
  },
  {
   "cell_type": "markdown",
   "id": "2f300400",
   "metadata": {},
   "source": [
    "#### In basic for loops, iterating through each scalar of an array we need to use n for loops which can be difficult to write for arrays with very high dimensionality."
   ]
  },
  {
   "cell_type": "code",
   "execution_count": 23,
   "id": "1220bfb6",
   "metadata": {
    "scrolled": true
   },
   "outputs": [
    {
     "name": "stdout",
     "output_type": "stream",
     "text": [
      "10\n",
      "13\n",
      "14\n",
      "15\n",
      "17\n",
      "16\n",
      "15\n",
      "20\n",
      "21\n",
      "32\n",
      "43\n",
      "54\n",
      "20\n",
      "30\n",
      "40\n",
      "50\n"
     ]
    }
   ],
   "source": [
    "for x in np.nditer(arr1003): \n",
    "    print(x)"
   ]
  },
  {
   "cell_type": "markdown",
   "id": "4ffc9ad9",
   "metadata": {},
   "source": [
    "### Array Joining"
   ]
  },
  {
   "cell_type": "code",
   "execution_count": 33,
   "id": "99d702ff",
   "metadata": {},
   "outputs": [
    {
     "name": "stdout",
     "output_type": "stream",
     "text": [
      "[10 20 30 21 22 23]\n"
     ]
    }
   ],
   "source": [
    "arr01 = np.array([10, 20, 30]) # 1-D Array\n",
    "arr02 = np.array([21, 22, 23]) # 1-D Array\n",
    "\n",
    "# We pass a sequence of arrays that we want to join to the concatenate() function,\n",
    "# along with the axis. If axis is not explicitly passed, it is taken as 0.\n",
    "\n",
    "arr03 = np.concatenate((arr01, arr02))\n",
    "print(arr03)"
   ]
  },
  {
   "cell_type": "code",
   "execution_count": 30,
   "id": "6fb9c4d4",
   "metadata": {
    "scrolled": true
   },
   "outputs": [
    {
     "name": "stdout",
     "output_type": "stream",
     "text": [
      "[[100 200 300]\n",
      " [ 90  80  70]\n",
      " [200 300 400]\n",
      " [ 60  70  10]]\n"
     ]
    }
   ],
   "source": [
    "arr03 = np.array([[100, 200, 300], [90, 80, 70]])\n",
    "arr04 = np.array([[200, 300, 400], [60, 70, 10]])\n",
    "\n",
    "arr05 = np.concatenate((arr03, arr04))\n",
    "print(arr05)"
   ]
  },
  {
   "cell_type": "code",
   "execution_count": 31,
   "id": "4bd4c7be",
   "metadata": {},
   "outputs": [
    {
     "name": "stdout",
     "output_type": "stream",
     "text": [
      "[[100 200 300 200 300 400]\n",
      " [ 90  80  70  60  70  10]]\n"
     ]
    }
   ],
   "source": [
    "arr06 = np.concatenate((arr03, arr04), axis = 1)\n",
    "print(arr06)"
   ]
  },
  {
   "cell_type": "code",
   "execution_count": null,
   "id": "b53c7310",
   "metadata": {},
   "outputs": [],
   "source": [
    "# Using Stack function instead of concatenate function\n",
    "# Stacking is same as concatenation, the only difference is that stacking is done along a new axis.\n",
    "\n",
    "arr07 = np.stack((arr03, arr04))\n",
    "print(arr07)"
   ]
  },
  {
   "cell_type": "code",
   "execution_count": null,
   "id": "432fc5fd",
   "metadata": {},
   "outputs": [],
   "source": [
    "arr07 = np.stack((arr03, arr04),axis = 1)\n",
    "print(arr07)"
   ]
  },
  {
   "cell_type": "markdown",
   "id": "eadfd03f",
   "metadata": {},
   "source": [
    "### Spliting Numpy Array"
   ]
  },
  {
   "cell_type": "code",
   "execution_count": 34,
   "id": "601af209",
   "metadata": {},
   "outputs": [],
   "source": [
    "arr10 = np.array([10, 20, 30, 40, 50, 60])"
   ]
  },
  {
   "cell_type": "code",
   "execution_count": 35,
   "id": "55b6a31d",
   "metadata": {},
   "outputs": [
    {
     "name": "stdout",
     "output_type": "stream",
     "text": [
      "[10 20 30 40 50 60]\n"
     ]
    }
   ],
   "source": [
    "print(arr10)"
   ]
  },
  {
   "cell_type": "code",
   "execution_count": 36,
   "id": "58119b19",
   "metadata": {},
   "outputs": [
    {
     "name": "stdout",
     "output_type": "stream",
     "text": [
      "[array([10, 20]), array([30, 40]), array([50, 60])]\n"
     ]
    }
   ],
   "source": [
    "new_arr10 = np.array_split(arr10, 3)\n",
    "print(new_arr10)"
   ]
  },
  {
   "cell_type": "code",
   "execution_count": 37,
   "id": "b42dffe4",
   "metadata": {},
   "outputs": [
    {
     "name": "stdout",
     "output_type": "stream",
     "text": [
      "[10 20]\n",
      "[30 40]\n",
      "[50 60]\n"
     ]
    }
   ],
   "source": [
    "## Access Spliting Array\n",
    "print(new_arr10[0])\n",
    "print(new_arr10[1])\n",
    "print(new_arr10[2])"
   ]
  },
  {
   "cell_type": "code",
   "execution_count": 38,
   "id": "08153f10",
   "metadata": {},
   "outputs": [
    {
     "name": "stdout",
     "output_type": "stream",
     "text": [
      "[[10 20]\n",
      " [12 13]\n",
      " [14 15]\n",
      " [20 22]\n",
      " [30 42]]\n"
     ]
    }
   ],
   "source": [
    "## Split the 2-D array\n",
    "arr2d = np.array([[10, 20], [12, 13], [14,15], [20, 22], [30, 42]])\n",
    "print(arr2d)"
   ]
  },
  {
   "cell_type": "code",
   "execution_count": 39,
   "id": "a0d91d6f",
   "metadata": {
    "scrolled": true
   },
   "outputs": [
    {
     "name": "stdout",
     "output_type": "stream",
     "text": [
      "[array([[10, 20]]), array([[12, 13]]), array([[14, 15]]), array([[20, 22]]), array([[30, 42]])]\n",
      "Áccess the 2nd array\n",
      "[[12 13]]\n"
     ]
    }
   ],
   "source": [
    "new_arr2d = np.array_split(arr2d, 5)\n",
    "print(new_arr2d)\n",
    "print('Áccess the 2nd array')\n",
    "print(new_arr2d[1])"
   ]
  },
  {
   "cell_type": "code",
   "execution_count": 41,
   "id": "01270706",
   "metadata": {},
   "outputs": [
    {
     "name": "stdout",
     "output_type": "stream",
     "text": [
      "[[20 30 40]\n",
      " [21 31 41]\n",
      " [22 32 43]\n",
      " [89 76 54]]\n"
     ]
    }
   ],
   "source": [
    "## Split using hsplit fuction\n",
    "arrHsplit = np.array([[20, 30, 40], [21, 31, 41], [22, 32, 43], [89, 76, 54]])\n",
    "print(arrHsplit)"
   ]
  },
  {
   "cell_type": "code",
   "execution_count": 42,
   "id": "0777ca01",
   "metadata": {},
   "outputs": [
    {
     "name": "stdout",
     "output_type": "stream",
     "text": [
      "[array([[20],\n",
      "       [21],\n",
      "       [22],\n",
      "       [89]]), array([[30],\n",
      "       [31],\n",
      "       [32],\n",
      "       [76]]), array([[40],\n",
      "       [41],\n",
      "       [43],\n",
      "       [54]])]\n"
     ]
    }
   ],
   "source": [
    "newHsplit = np.hsplit(arrHsplit, 3)\n",
    "print(newHsplit)"
   ]
  },
  {
   "cell_type": "code",
   "execution_count": null,
   "id": "cef76343",
   "metadata": {},
   "outputs": [],
   "source": [
    "print(newHsplit[0]"
   ]
  },
  {
   "cell_type": "markdown",
   "id": "99a7b72e",
   "metadata": {},
   "source": [
    "### Serching Array"
   ]
  },
  {
   "cell_type": "code",
   "execution_count": null,
   "id": "ccdd6fc0",
   "metadata": {},
   "outputs": [],
   "source": [
    "arrserarch = np.array([1, 2, 5, 6, 7, 9])\n",
    "x = np.where(arrserarch == 9)\n",
    "print(x)"
   ]
  },
  {
   "cell_type": "code",
   "execution_count": null,
   "id": "d4acc3a1",
   "metadata": {},
   "outputs": [],
   "source": [
    "arrserarch = np.array([1, 2, 5, 6, 7, 9])\n",
    "x = np.where(arrserarch%2 == 0)\n",
    "print(x)\n"
   ]
  },
  {
   "cell_type": "markdown",
   "id": "043879c3",
   "metadata": {},
   "source": [
    "## Python Pandas"
   ]
  },
  {
   "cell_type": "code",
   "execution_count": null,
   "id": "4b84610a",
   "metadata": {},
   "outputs": [],
   "source": [
    "# Create DataFrame\n",
    "# A pandas DataFrame can be created using various inputs like −\n",
    "\n",
    "# Lists\n",
    "# dict\n",
    "# Series\n",
    "# Numpy ndarrays\n",
    "# Another DataFrame\n",
    "# DataFrame Structure --> pandas.DataFrame( data, index, columns, dtype, copy)"
   ]
  },
  {
   "cell_type": "markdown",
   "id": "150fc0b9",
   "metadata": {},
   "source": [
    "### Create a empty dataframe"
   ]
  },
  {
   "cell_type": "code",
   "execution_count": null,
   "id": "ead62e34",
   "metadata": {},
   "outputs": [],
   "source": [
    "import pandas as pd"
   ]
  },
  {
   "cell_type": "code",
   "execution_count": null,
   "id": "82f992c8",
   "metadata": {},
   "outputs": [],
   "source": [
    "df = pd.DataFrame()\n",
    "print(df)"
   ]
  },
  {
   "cell_type": "markdown",
   "id": "fd0f928d",
   "metadata": {},
   "source": [
    "### Create dataframe by List"
   ]
  },
  {
   "cell_type": "code",
   "execution_count": 181,
   "id": "6f9874d6",
   "metadata": {},
   "outputs": [
    {
     "name": "stdout",
     "output_type": "stream",
     "text": [
      "    0\n",
      "0  10\n",
      "1  20\n",
      "2  30\n",
      "3  40\n"
     ]
    }
   ],
   "source": [
    "# Example 01\n",
    "L1 = ([10, 20, 30, 40])\n",
    "df1 = pd.DataFrame(L1)\n",
    "print(df1)"
   ]
  },
  {
   "cell_type": "code",
   "execution_count": null,
   "id": "2575151d",
   "metadata": {},
   "outputs": [],
   "source": [
    "# Example 02\n",
    "L2 = ([['Abir', 20000], ['Jibon', 23000], ['Rahim', 12000], ['Anwar', 34000]])\n",
    "df2 = pd.DataFrame(L2)\n",
    "print(df2)"
   ]
  },
  {
   "cell_type": "code",
   "execution_count": null,
   "id": "23013a7b",
   "metadata": {},
   "outputs": [],
   "source": [
    "# Example 02\n",
    "L2 = ([['Abir', 20000], ['Jibon', 23000], ['Rahim', 12000], ['Anwar', 34000]])\n",
    "df2 = pd.DataFrame(L2, columns = ['Emp_Name','Salary'])\n",
    "print(df2)"
   ]
  },
  {
   "cell_type": "markdown",
   "id": "bb8f1bcb",
   "metadata": {},
   "source": [
    "### Create a DataFrame by Dictionary"
   ]
  },
  {
   "cell_type": "code",
   "execution_count": null,
   "id": "2e04ce2e",
   "metadata": {},
   "outputs": [],
   "source": [
    "D1 = {'Name' : ['Jibon', 'Akash', 'Riyad', 'Sufol', 'Junayed', 'Akber'],\n",
    "      'Salary' : [20000, 30000, 10000, 23000, 43000, 25000],\n",
    "      'Age' : [25, 20, 45, 33, 22, 42]}\n",
    "dfd1 = pd.DataFrame(D1)\n",
    "print(dfd1)"
   ]
  },
  {
   "cell_type": "markdown",
   "id": "74f7e483",
   "metadata": {},
   "source": [
    "### Dataframe column selection"
   ]
  },
  {
   "cell_type": "code",
   "execution_count": null,
   "id": "121ecfda",
   "metadata": {},
   "outputs": [],
   "source": [
    "dfd1[['Name', 'Age']] "
   ]
  },
  {
   "cell_type": "markdown",
   "id": "af20bbaf",
   "metadata": {},
   "source": [
    "### Add new column into dataframe"
   ]
  },
  {
   "cell_type": "code",
   "execution_count": null,
   "id": "0b61a5ad",
   "metadata": {},
   "outputs": [],
   "source": [
    "dfd1['Increment_percentage'] = 10"
   ]
  },
  {
   "cell_type": "code",
   "execution_count": null,
   "id": "76f54b8d",
   "metadata": {},
   "outputs": [],
   "source": [
    "dfd1"
   ]
  },
  {
   "cell_type": "code",
   "execution_count": null,
   "id": "d021206f",
   "metadata": {},
   "outputs": [],
   "source": [
    "dfd1['Increment_Sal'] = dfd1['Salary'] + ((dfd1['Salary'] * dfd1['Increment_percentage'])/100)"
   ]
  },
  {
   "cell_type": "code",
   "execution_count": null,
   "id": "5ddd9bfe",
   "metadata": {},
   "outputs": [],
   "source": [
    "dfd1"
   ]
  },
  {
   "cell_type": "code",
   "execution_count": null,
   "id": "c6467ecc",
   "metadata": {},
   "outputs": [],
   "source": [
    "dfd1['Year'] = 2022"
   ]
  },
  {
   "cell_type": "code",
   "execution_count": null,
   "id": "35333075",
   "metadata": {},
   "outputs": [],
   "source": [
    "dfd1"
   ]
  },
  {
   "cell_type": "markdown",
   "id": "625ac10c",
   "metadata": {},
   "source": [
    "### Delete a column from dataframe"
   ]
  },
  {
   "cell_type": "code",
   "execution_count": null,
   "id": "fe4ee12d",
   "metadata": {},
   "outputs": [],
   "source": [
    "del dfd1['Year']"
   ]
  },
  {
   "cell_type": "code",
   "execution_count": null,
   "id": "ac4c86a6",
   "metadata": {},
   "outputs": [],
   "source": [
    "dfd1"
   ]
  },
  {
   "cell_type": "markdown",
   "id": "c62556dd",
   "metadata": {},
   "source": [
    "### Insert a new row into dataframe"
   ]
  },
  {
   "cell_type": "code",
   "execution_count": null,
   "id": "5f080148",
   "metadata": {},
   "outputs": [],
   "source": [
    "## Create a new DataFrame\n",
    "data = {'name': ['Somu', 'Kiku', 'Amol', 'Lini'],\n",
    "        'physics': [68, 74, 77, 78],\n",
    "        'chemistry': [84, 56, 73, 69],\n",
    "        'algebra': [78, 88, 82, 87]}\n",
    "print(data)"
   ]
  },
  {
   "cell_type": "code",
   "execution_count": null,
   "id": "24460e20",
   "metadata": {},
   "outputs": [],
   "source": [
    "df10 = pd.DataFrame(data)\n",
    "df10"
   ]
  },
  {
   "cell_type": "code",
   "execution_count": null,
   "id": "02f9506e",
   "metadata": {},
   "outputs": [],
   "source": [
    "new_row = {'name': ['Riyaz'], 'physics':75, 'chemistry': 71, 'algebra':50}"
   ]
  },
  {
   "cell_type": "code",
   "execution_count": null,
   "id": "e6fa5c13",
   "metadata": {},
   "outputs": [],
   "source": [
    "df10 = df10.append(new_row, ignore_index = True)"
   ]
  },
  {
   "cell_type": "code",
   "execution_count": null,
   "id": "a4083615",
   "metadata": {},
   "outputs": [],
   "source": [
    "df10"
   ]
  },
  {
   "cell_type": "code",
   "execution_count": null,
   "id": "55422c7d",
   "metadata": {},
   "outputs": [],
   "source": [
    "df10['physics'].max()"
   ]
  },
  {
   "cell_type": "code",
   "execution_count": null,
   "id": "315119fb",
   "metadata": {},
   "outputs": [],
   "source": [
    "df10['physics'].min()"
   ]
  },
  {
   "cell_type": "code",
   "execution_count": null,
   "id": "77de2254",
   "metadata": {},
   "outputs": [],
   "source": [
    "df10['physics'].sum()"
   ]
  },
  {
   "cell_type": "markdown",
   "id": "920dc47c",
   "metadata": {},
   "source": [
    "### Delete a row from dataframe"
   ]
  },
  {
   "cell_type": "code",
   "execution_count": null,
   "id": "62691936",
   "metadata": {},
   "outputs": [],
   "source": [
    "df10.drop(4) ## Zero is index number"
   ]
  },
  {
   "cell_type": "code",
   "execution_count": null,
   "id": "825c021c",
   "metadata": {},
   "outputs": [],
   "source": [
    "df_copy = df10.copy()"
   ]
  },
  {
   "cell_type": "code",
   "execution_count": null,
   "id": "33099f5f",
   "metadata": {},
   "outputs": [],
   "source": [
    "df_copy[['name','algebra']]."
   ]
  },
  {
   "cell_type": "markdown",
   "id": "6f00ce0c",
   "metadata": {},
   "source": [
    "### Delete missing Value"
   ]
  },
  {
   "cell_type": "code",
   "execution_count": 4,
   "id": "ef29723f",
   "metadata": {},
   "outputs": [],
   "source": [
    "import pandas as pd\n",
    "import numpy as np"
   ]
  },
  {
   "cell_type": "code",
   "execution_count": 7,
   "id": "cc841441",
   "metadata": {},
   "outputs": [],
   "source": [
    "dic = {'Name': ['Jhon','Edwin','Jacob','Kristian',np.nan],\n",
    "       'DoB': [pd.NaT, pd.Timestamp('1985-10-10'), pd.Timestamp('1995-10-15'), pd.NaT, pd.NaT],\n",
    "       'dept': ['HR','Accounts','MIS', np.nan, np.nan],\n",
    "       'Salary': [20000, 40000, 12000, 35000, 22000]\n",
    "      }"
   ]
  },
  {
   "cell_type": "code",
   "execution_count": 17,
   "id": "38f05c31",
   "metadata": {},
   "outputs": [],
   "source": [
    "df = pd.DataFrame(dic)"
   ]
  },
  {
   "cell_type": "code",
   "execution_count": 18,
   "id": "74926bd6",
   "metadata": {
    "scrolled": true
   },
   "outputs": [
    {
     "data": {
      "text/html": [
       "<div>\n",
       "<style scoped>\n",
       "    .dataframe tbody tr th:only-of-type {\n",
       "        vertical-align: middle;\n",
       "    }\n",
       "\n",
       "    .dataframe tbody tr th {\n",
       "        vertical-align: top;\n",
       "    }\n",
       "\n",
       "    .dataframe thead th {\n",
       "        text-align: right;\n",
       "    }\n",
       "</style>\n",
       "<table border=\"1\" class=\"dataframe\">\n",
       "  <thead>\n",
       "    <tr style=\"text-align: right;\">\n",
       "      <th></th>\n",
       "      <th>Name</th>\n",
       "      <th>DoB</th>\n",
       "      <th>dept</th>\n",
       "      <th>Salary</th>\n",
       "    </tr>\n",
       "  </thead>\n",
       "  <tbody>\n",
       "    <tr>\n",
       "      <th>0</th>\n",
       "      <td>Jhon</td>\n",
       "      <td>NaT</td>\n",
       "      <td>HR</td>\n",
       "      <td>20000</td>\n",
       "    </tr>\n",
       "    <tr>\n",
       "      <th>1</th>\n",
       "      <td>Edwin</td>\n",
       "      <td>1985-10-10</td>\n",
       "      <td>Accounts</td>\n",
       "      <td>40000</td>\n",
       "    </tr>\n",
       "    <tr>\n",
       "      <th>2</th>\n",
       "      <td>Jacob</td>\n",
       "      <td>1995-10-15</td>\n",
       "      <td>MIS</td>\n",
       "      <td>12000</td>\n",
       "    </tr>\n",
       "    <tr>\n",
       "      <th>3</th>\n",
       "      <td>Kristian</td>\n",
       "      <td>NaT</td>\n",
       "      <td>NaN</td>\n",
       "      <td>35000</td>\n",
       "    </tr>\n",
       "    <tr>\n",
       "      <th>4</th>\n",
       "      <td>NaN</td>\n",
       "      <td>NaT</td>\n",
       "      <td>NaN</td>\n",
       "      <td>22000</td>\n",
       "    </tr>\n",
       "  </tbody>\n",
       "</table>\n",
       "</div>"
      ],
      "text/plain": [
       "       Name        DoB      dept  Salary\n",
       "0      Jhon        NaT        HR   20000\n",
       "1     Edwin 1985-10-10  Accounts   40000\n",
       "2     Jacob 1995-10-15       MIS   12000\n",
       "3  Kristian        NaT       NaN   35000\n",
       "4       NaN        NaT       NaN   22000"
      ]
     },
     "execution_count": 18,
     "metadata": {},
     "output_type": "execute_result"
    }
   ],
   "source": [
    "df"
   ]
  },
  {
   "cell_type": "code",
   "execution_count": 12,
   "id": "338e1df5",
   "metadata": {},
   "outputs": [
    {
     "data": {
      "text/html": [
       "<div>\n",
       "<style scoped>\n",
       "    .dataframe tbody tr th:only-of-type {\n",
       "        vertical-align: middle;\n",
       "    }\n",
       "\n",
       "    .dataframe tbody tr th {\n",
       "        vertical-align: top;\n",
       "    }\n",
       "\n",
       "    .dataframe thead th {\n",
       "        text-align: right;\n",
       "    }\n",
       "</style>\n",
       "<table border=\"1\" class=\"dataframe\">\n",
       "  <thead>\n",
       "    <tr style=\"text-align: right;\">\n",
       "      <th></th>\n",
       "      <th>Name</th>\n",
       "      <th>DoB</th>\n",
       "      <th>dept</th>\n",
       "      <th>Salary</th>\n",
       "    </tr>\n",
       "  </thead>\n",
       "  <tbody>\n",
       "    <tr>\n",
       "      <th>1</th>\n",
       "      <td>Edwin</td>\n",
       "      <td>1985-10-10</td>\n",
       "      <td>Accounts</td>\n",
       "      <td>40000</td>\n",
       "    </tr>\n",
       "    <tr>\n",
       "      <th>2</th>\n",
       "      <td>Jacob</td>\n",
       "      <td>1995-10-15</td>\n",
       "      <td>MIS</td>\n",
       "      <td>12000</td>\n",
       "    </tr>\n",
       "  </tbody>\n",
       "</table>\n",
       "</div>"
      ],
      "text/plain": [
       "    Name        DoB      dept  Salary\n",
       "1  Edwin 1985-10-10  Accounts   40000\n",
       "2  Jacob 1995-10-15       MIS   12000"
      ]
     },
     "execution_count": 12,
     "metadata": {},
     "output_type": "execute_result"
    }
   ],
   "source": [
    "df.dropna()"
   ]
  },
  {
   "cell_type": "code",
   "execution_count": 14,
   "id": "7efe35b3",
   "metadata": {},
   "outputs": [],
   "source": [
    "df.dropna(inplace = True)"
   ]
  },
  {
   "cell_type": "code",
   "execution_count": 15,
   "id": "ccf3480d",
   "metadata": {},
   "outputs": [
    {
     "data": {
      "text/html": [
       "<div>\n",
       "<style scoped>\n",
       "    .dataframe tbody tr th:only-of-type {\n",
       "        vertical-align: middle;\n",
       "    }\n",
       "\n",
       "    .dataframe tbody tr th {\n",
       "        vertical-align: top;\n",
       "    }\n",
       "\n",
       "    .dataframe thead th {\n",
       "        text-align: right;\n",
       "    }\n",
       "</style>\n",
       "<table border=\"1\" class=\"dataframe\">\n",
       "  <thead>\n",
       "    <tr style=\"text-align: right;\">\n",
       "      <th></th>\n",
       "      <th>Name</th>\n",
       "      <th>DoB</th>\n",
       "      <th>dept</th>\n",
       "      <th>Salary</th>\n",
       "    </tr>\n",
       "  </thead>\n",
       "  <tbody>\n",
       "    <tr>\n",
       "      <th>1</th>\n",
       "      <td>Edwin</td>\n",
       "      <td>1985-10-10</td>\n",
       "      <td>Accounts</td>\n",
       "      <td>40000</td>\n",
       "    </tr>\n",
       "    <tr>\n",
       "      <th>2</th>\n",
       "      <td>Jacob</td>\n",
       "      <td>1995-10-15</td>\n",
       "      <td>MIS</td>\n",
       "      <td>12000</td>\n",
       "    </tr>\n",
       "  </tbody>\n",
       "</table>\n",
       "</div>"
      ],
      "text/plain": [
       "    Name        DoB      dept  Salary\n",
       "1  Edwin 1985-10-10  Accounts   40000\n",
       "2  Jacob 1995-10-15       MIS   12000"
      ]
     },
     "execution_count": 15,
     "metadata": {},
     "output_type": "execute_result"
    }
   ],
   "source": [
    "df"
   ]
  },
  {
   "cell_type": "code",
   "execution_count": 16,
   "id": "593d71e1",
   "metadata": {},
   "outputs": [],
   "source": [
    "del df"
   ]
  },
  {
   "cell_type": "code",
   "execution_count": 22,
   "id": "9b26e13c",
   "metadata": {},
   "outputs": [
    {
     "data": {
      "text/html": [
       "<div>\n",
       "<style scoped>\n",
       "    .dataframe tbody tr th:only-of-type {\n",
       "        vertical-align: middle;\n",
       "    }\n",
       "\n",
       "    .dataframe tbody tr th {\n",
       "        vertical-align: top;\n",
       "    }\n",
       "\n",
       "    .dataframe thead th {\n",
       "        text-align: right;\n",
       "    }\n",
       "</style>\n",
       "<table border=\"1\" class=\"dataframe\">\n",
       "  <thead>\n",
       "    <tr style=\"text-align: right;\">\n",
       "      <th></th>\n",
       "      <th>Name</th>\n",
       "      <th>DoB</th>\n",
       "      <th>dept</th>\n",
       "      <th>Salary</th>\n",
       "    </tr>\n",
       "  </thead>\n",
       "  <tbody>\n",
       "    <tr>\n",
       "      <th>0</th>\n",
       "      <td>Jhon</td>\n",
       "      <td>NaT</td>\n",
       "      <td>HR</td>\n",
       "      <td>20000</td>\n",
       "    </tr>\n",
       "    <tr>\n",
       "      <th>1</th>\n",
       "      <td>Edwin</td>\n",
       "      <td>1985-10-10</td>\n",
       "      <td>Accounts</td>\n",
       "      <td>40000</td>\n",
       "    </tr>\n",
       "    <tr>\n",
       "      <th>2</th>\n",
       "      <td>Jacob</td>\n",
       "      <td>1995-10-15</td>\n",
       "      <td>MIS</td>\n",
       "      <td>12000</td>\n",
       "    </tr>\n",
       "    <tr>\n",
       "      <th>3</th>\n",
       "      <td>Kristian</td>\n",
       "      <td>NaT</td>\n",
       "      <td>NaN</td>\n",
       "      <td>35000</td>\n",
       "    </tr>\n",
       "    <tr>\n",
       "      <th>4</th>\n",
       "      <td>NaN</td>\n",
       "      <td>NaT</td>\n",
       "      <td>NaN</td>\n",
       "      <td>22000</td>\n",
       "    </tr>\n",
       "  </tbody>\n",
       "</table>\n",
       "</div>"
      ],
      "text/plain": [
       "       Name        DoB      dept  Salary\n",
       "0      Jhon        NaT        HR   20000\n",
       "1     Edwin 1985-10-10  Accounts   40000\n",
       "2     Jacob 1995-10-15       MIS   12000\n",
       "3  Kristian        NaT       NaN   35000\n",
       "4       NaN        NaT       NaN   22000"
      ]
     },
     "execution_count": 22,
     "metadata": {},
     "output_type": "execute_result"
    }
   ],
   "source": [
    "df.dropna(how = 'all')"
   ]
  },
  {
   "cell_type": "code",
   "execution_count": 25,
   "id": "bd804a39",
   "metadata": {},
   "outputs": [
    {
     "data": {
      "text/html": [
       "<div>\n",
       "<style scoped>\n",
       "    .dataframe tbody tr th:only-of-type {\n",
       "        vertical-align: middle;\n",
       "    }\n",
       "\n",
       "    .dataframe tbody tr th {\n",
       "        vertical-align: top;\n",
       "    }\n",
       "\n",
       "    .dataframe thead th {\n",
       "        text-align: right;\n",
       "    }\n",
       "</style>\n",
       "<table border=\"1\" class=\"dataframe\">\n",
       "  <thead>\n",
       "    <tr style=\"text-align: right;\">\n",
       "      <th></th>\n",
       "      <th>Name</th>\n",
       "      <th>DoB</th>\n",
       "      <th>dept</th>\n",
       "      <th>Salary</th>\n",
       "    </tr>\n",
       "  </thead>\n",
       "  <tbody>\n",
       "    <tr>\n",
       "      <th>1</th>\n",
       "      <td>Edwin</td>\n",
       "      <td>1985-10-10</td>\n",
       "      <td>Accounts</td>\n",
       "      <td>40000</td>\n",
       "    </tr>\n",
       "    <tr>\n",
       "      <th>2</th>\n",
       "      <td>Jacob</td>\n",
       "      <td>1995-10-15</td>\n",
       "      <td>MIS</td>\n",
       "      <td>12000</td>\n",
       "    </tr>\n",
       "  </tbody>\n",
       "</table>\n",
       "</div>"
      ],
      "text/plain": [
       "    Name        DoB      dept  Salary\n",
       "1  Edwin 1985-10-10  Accounts   40000\n",
       "2  Jacob 1995-10-15       MIS   12000"
      ]
     },
     "execution_count": 25,
     "metadata": {},
     "output_type": "execute_result"
    }
   ],
   "source": [
    "df.dropna(subset=['dept','DoB'])"
   ]
  },
  {
   "cell_type": "code",
   "execution_count": 27,
   "id": "abf8c29a",
   "metadata": {},
   "outputs": [
    {
     "data": {
      "text/html": [
       "<div>\n",
       "<style scoped>\n",
       "    .dataframe tbody tr th:only-of-type {\n",
       "        vertical-align: middle;\n",
       "    }\n",
       "\n",
       "    .dataframe tbody tr th {\n",
       "        vertical-align: top;\n",
       "    }\n",
       "\n",
       "    .dataframe thead th {\n",
       "        text-align: right;\n",
       "    }\n",
       "</style>\n",
       "<table border=\"1\" class=\"dataframe\">\n",
       "  <thead>\n",
       "    <tr style=\"text-align: right;\">\n",
       "      <th></th>\n",
       "      <th>Name</th>\n",
       "      <th>DoB</th>\n",
       "      <th>dept</th>\n",
       "      <th>Salary</th>\n",
       "    </tr>\n",
       "  </thead>\n",
       "  <tbody>\n",
       "    <tr>\n",
       "      <th>0</th>\n",
       "      <td>Jhon</td>\n",
       "      <td>NaT</td>\n",
       "      <td>HR</td>\n",
       "      <td>20000</td>\n",
       "    </tr>\n",
       "    <tr>\n",
       "      <th>1</th>\n",
       "      <td>Edwin</td>\n",
       "      <td>1985-10-10</td>\n",
       "      <td>Accounts</td>\n",
       "      <td>40000</td>\n",
       "    </tr>\n",
       "    <tr>\n",
       "      <th>2</th>\n",
       "      <td>Jacob</td>\n",
       "      <td>1995-10-15</td>\n",
       "      <td>MIS</td>\n",
       "      <td>12000</td>\n",
       "    </tr>\n",
       "    <tr>\n",
       "      <th>3</th>\n",
       "      <td>Kristian</td>\n",
       "      <td>NaT</td>\n",
       "      <td>NaN</td>\n",
       "      <td>35000</td>\n",
       "    </tr>\n",
       "  </tbody>\n",
       "</table>\n",
       "</div>"
      ],
      "text/plain": [
       "       Name        DoB      dept  Salary\n",
       "0      Jhon        NaT        HR   20000\n",
       "1     Edwin 1985-10-10  Accounts   40000\n",
       "2     Jacob 1995-10-15       MIS   12000\n",
       "3  Kristian        NaT       NaN   35000"
      ]
     },
     "execution_count": 27,
     "metadata": {},
     "output_type": "execute_result"
    }
   ],
   "source": [
    "df.dropna(thresh=2)"
   ]
  },
  {
   "cell_type": "code",
   "execution_count": 29,
   "id": "6d0120dc",
   "metadata": {},
   "outputs": [],
   "source": [
    "df.dropna(how = 'any', inplace = True)"
   ]
  },
  {
   "cell_type": "code",
   "execution_count": 30,
   "id": "134fa82f",
   "metadata": {},
   "outputs": [
    {
     "data": {
      "text/html": [
       "<div>\n",
       "<style scoped>\n",
       "    .dataframe tbody tr th:only-of-type {\n",
       "        vertical-align: middle;\n",
       "    }\n",
       "\n",
       "    .dataframe tbody tr th {\n",
       "        vertical-align: top;\n",
       "    }\n",
       "\n",
       "    .dataframe thead th {\n",
       "        text-align: right;\n",
       "    }\n",
       "</style>\n",
       "<table border=\"1\" class=\"dataframe\">\n",
       "  <thead>\n",
       "    <tr style=\"text-align: right;\">\n",
       "      <th></th>\n",
       "      <th>Name</th>\n",
       "      <th>DoB</th>\n",
       "      <th>dept</th>\n",
       "      <th>Salary</th>\n",
       "    </tr>\n",
       "  </thead>\n",
       "  <tbody>\n",
       "    <tr>\n",
       "      <th>1</th>\n",
       "      <td>Edwin</td>\n",
       "      <td>1985-10-10</td>\n",
       "      <td>Accounts</td>\n",
       "      <td>40000</td>\n",
       "    </tr>\n",
       "    <tr>\n",
       "      <th>2</th>\n",
       "      <td>Jacob</td>\n",
       "      <td>1995-10-15</td>\n",
       "      <td>MIS</td>\n",
       "      <td>12000</td>\n",
       "    </tr>\n",
       "  </tbody>\n",
       "</table>\n",
       "</div>"
      ],
      "text/plain": [
       "    Name        DoB      dept  Salary\n",
       "1  Edwin 1985-10-10  Accounts   40000\n",
       "2  Jacob 1995-10-15       MIS   12000"
      ]
     },
     "execution_count": 30,
     "metadata": {},
     "output_type": "execute_result"
    }
   ],
   "source": [
    "df"
   ]
  },
  {
   "cell_type": "code",
   "execution_count": 33,
   "id": "04b20059",
   "metadata": {},
   "outputs": [],
   "source": [
    "df['Salary'].replace(12000, 2000, inplace = True)"
   ]
  },
  {
   "cell_type": "code",
   "execution_count": 34,
   "id": "4b60e14b",
   "metadata": {},
   "outputs": [
    {
     "data": {
      "text/html": [
       "<div>\n",
       "<style scoped>\n",
       "    .dataframe tbody tr th:only-of-type {\n",
       "        vertical-align: middle;\n",
       "    }\n",
       "\n",
       "    .dataframe tbody tr th {\n",
       "        vertical-align: top;\n",
       "    }\n",
       "\n",
       "    .dataframe thead th {\n",
       "        text-align: right;\n",
       "    }\n",
       "</style>\n",
       "<table border=\"1\" class=\"dataframe\">\n",
       "  <thead>\n",
       "    <tr style=\"text-align: right;\">\n",
       "      <th></th>\n",
       "      <th>Name</th>\n",
       "      <th>DoB</th>\n",
       "      <th>dept</th>\n",
       "      <th>Salary</th>\n",
       "    </tr>\n",
       "  </thead>\n",
       "  <tbody>\n",
       "    <tr>\n",
       "      <th>1</th>\n",
       "      <td>Edwin</td>\n",
       "      <td>1985-10-10</td>\n",
       "      <td>Accounts</td>\n",
       "      <td>40000</td>\n",
       "    </tr>\n",
       "    <tr>\n",
       "      <th>2</th>\n",
       "      <td>Jacob</td>\n",
       "      <td>1995-10-15</td>\n",
       "      <td>MIS</td>\n",
       "      <td>2000</td>\n",
       "    </tr>\n",
       "  </tbody>\n",
       "</table>\n",
       "</div>"
      ],
      "text/plain": [
       "    Name        DoB      dept  Salary\n",
       "1  Edwin 1985-10-10  Accounts   40000\n",
       "2  Jacob 1995-10-15       MIS    2000"
      ]
     },
     "execution_count": 34,
     "metadata": {},
     "output_type": "execute_result"
    }
   ],
   "source": [
    "df"
   ]
  },
  {
   "cell_type": "code",
   "execution_count": 35,
   "id": "c1f9770e",
   "metadata": {},
   "outputs": [],
   "source": [
    "mean = df['Salary'].mean()"
   ]
  },
  {
   "cell_type": "code",
   "execution_count": 37,
   "id": "de3ec61a",
   "metadata": {},
   "outputs": [],
   "source": [
    "df['Salary'].replace(2000, mean, inplace = True)"
   ]
  },
  {
   "cell_type": "code",
   "execution_count": 38,
   "id": "4704a688",
   "metadata": {},
   "outputs": [
    {
     "data": {
      "text/html": [
       "<div>\n",
       "<style scoped>\n",
       "    .dataframe tbody tr th:only-of-type {\n",
       "        vertical-align: middle;\n",
       "    }\n",
       "\n",
       "    .dataframe tbody tr th {\n",
       "        vertical-align: top;\n",
       "    }\n",
       "\n",
       "    .dataframe thead th {\n",
       "        text-align: right;\n",
       "    }\n",
       "</style>\n",
       "<table border=\"1\" class=\"dataframe\">\n",
       "  <thead>\n",
       "    <tr style=\"text-align: right;\">\n",
       "      <th></th>\n",
       "      <th>Name</th>\n",
       "      <th>DoB</th>\n",
       "      <th>dept</th>\n",
       "      <th>Salary</th>\n",
       "    </tr>\n",
       "  </thead>\n",
       "  <tbody>\n",
       "    <tr>\n",
       "      <th>1</th>\n",
       "      <td>Edwin</td>\n",
       "      <td>1985-10-10</td>\n",
       "      <td>Accounts</td>\n",
       "      <td>40000</td>\n",
       "    </tr>\n",
       "    <tr>\n",
       "      <th>2</th>\n",
       "      <td>Jacob</td>\n",
       "      <td>1995-10-15</td>\n",
       "      <td>MIS</td>\n",
       "      <td>21000</td>\n",
       "    </tr>\n",
       "  </tbody>\n",
       "</table>\n",
       "</div>"
      ],
      "text/plain": [
       "    Name        DoB      dept  Salary\n",
       "1  Edwin 1985-10-10  Accounts   40000\n",
       "2  Jacob 1995-10-15       MIS   21000"
      ]
     },
     "execution_count": 38,
     "metadata": {},
     "output_type": "execute_result"
    }
   ],
   "source": [
    "df"
   ]
  },
  {
   "cell_type": "code",
   "execution_count": 43,
   "id": "0734bc9b",
   "metadata": {},
   "outputs": [],
   "source": [
    "qs = [10, 20, 30]"
   ]
  },
  {
   "cell_type": "code",
   "execution_count": 44,
   "id": "4090bbf2",
   "metadata": {},
   "outputs": [
    {
     "data": {
      "text/plain": [
       "list"
      ]
     },
     "execution_count": 44,
     "metadata": {},
     "output_type": "execute_result"
    }
   ],
   "source": [
    "type(qs)"
   ]
  },
  {
   "cell_type": "code",
   "execution_count": 48,
   "id": "50718d3d",
   "metadata": {},
   "outputs": [
    {
     "data": {
      "text/plain": [
       "30"
      ]
     },
     "execution_count": 48,
     "metadata": {},
     "output_type": "execute_result"
    }
   ],
   "source": [
    "max(qs)"
   ]
  },
  {
   "cell_type": "code",
   "execution_count": 49,
   "id": "8dec39de",
   "metadata": {},
   "outputs": [
    {
     "data": {
      "text/plain": [
       "10"
      ]
     },
     "execution_count": 49,
     "metadata": {},
     "output_type": "execute_result"
    }
   ],
   "source": [
    "min(qs)"
   ]
  },
  {
   "cell_type": "code",
   "execution_count": 50,
   "id": "1f36b8d6",
   "metadata": {},
   "outputs": [
    {
     "data": {
      "text/plain": [
       "60"
      ]
     },
     "execution_count": 50,
     "metadata": {},
     "output_type": "execute_result"
    }
   ],
   "source": [
    "sum(qs)"
   ]
  },
  {
   "cell_type": "code",
   "execution_count": 52,
   "id": "4d08cad8",
   "metadata": {},
   "outputs": [],
   "source": [
    "import pandas as pd\n",
    "df = pd.DataFrame(qs)"
   ]
  },
  {
   "cell_type": "code",
   "execution_count": null,
   "id": "4a616021",
   "metadata": {},
   "outputs": [],
   "source": [
    "qs."
   ]
  }
 ],
 "metadata": {
  "kernelspec": {
   "display_name": "Python 3 (ipykernel)",
   "language": "python",
   "name": "python3"
  },
  "language_info": {
   "codemirror_mode": {
    "name": "ipython",
    "version": 3
   },
   "file_extension": ".py",
   "mimetype": "text/x-python",
   "name": "python",
   "nbconvert_exporter": "python",
   "pygments_lexer": "ipython3",
   "version": "3.9.7"
  }
 },
 "nbformat": 4,
 "nbformat_minor": 5
}
