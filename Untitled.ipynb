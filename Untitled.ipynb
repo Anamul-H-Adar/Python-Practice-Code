{
 "cells": [
  {
   "cell_type": "markdown",
   "id": "42a8a3e2",
   "metadata": {},
   "source": [
    "### Prime number"
   ]
  },
  {
   "cell_type": "code",
   "execution_count": null,
   "id": "e1332918",
   "metadata": {},
   "outputs": [],
   "source": [
    "var = int(input('Enter a number :'))"
   ]
  }
 ],
 "metadata": {
  "kernelspec": {
   "display_name": "Python 3 (ipykernel)",
   "language": "python",
   "name": "python3"
  },
  "language_info": {
   "codemirror_mode": {
    "name": "ipython",
    "version": 3
   },
   "file_extension": ".py",
   "mimetype": "text/x-python",
   "name": "python",
   "nbconvert_exporter": "python",
   "pygments_lexer": "ipython3",
   "version": "3.9.7"
  }
 },
 "nbformat": 4,
 "nbformat_minor": 5
}
